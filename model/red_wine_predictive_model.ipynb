{
 "cells": [
  {
   "cell_type": "markdown",
   "metadata": {},
   "source": [
    "\"\"\"P. Cortez, A. Cerdeira, F. Almeida, T. Matos and J. Reis. \n",
    "  Modeling wine preferences by data mining from physicochemical properties.\n",
    "  In Decision Support Systems>, Elsevier, 47(4):547-553. ISSN: 0167-9236.\n",
    "\n",
    "  Available at: [@Elsevier] http://dx.doi.org/10.1016/j.dss.2009.05.016\n",
    "                [Pre-press (pdf)] http://www3.dsi.uminho.pt/pcortez/winequality09.pdf\n",
    "                [bib] http://www3.dsi.uminho.pt/pcortez/dss09.bib\"\"\"\n",
    "\n",
    "\n",
    "\n"
   ]
  },
  {
   "cell_type": "markdown",
   "metadata": {},
   "source": [
    "# Project\n",
    "\n",
    "In this project, our aim is to building a model for predicting wine qualities. Our label will be `quality` column. Do not forget, this is a Classification problem!\n",
    "\n",
    "## Steps\n",
    "- Read the `winequality.csv` file and describe it.\n",
    "- Make at least 4 different analysis on Exploratory Data Analysis section.\n",
    "- Pre-process the dataset to get ready for ML application. (Check missing data and handle them, can we need to do scaling or feature extraction etc.)\n",
    "- Define appropriate evaluation metric for our case (classification).\n",
    "- Train and evaluate Decision Trees and at least 2 different appropriate algorithm which you can choose from scikit-learn library.\n",
    "- Is there any overfitting and underfitting? Interpret your results and try to overcome if there is any problem in a new section.\n",
    "- Create confusion metrics for each algorithm and display Accuracy, Recall, Precision and F1-Score values.\n",
    "- Analyse and compare results of different algorithms.\n",
    "- Select best performing model based on evaluation metric you chose on test dataset.\n"
   ]
  },
  {
   "cell_type": "markdown",
   "metadata": {},
   "source": [
    "# Data"
   ]
  },
  {
   "cell_type": "code",
   "execution_count": 1,
   "metadata": {
    "ExecuteTime": {
     "end_time": "2021-01-13T11:57:14.684050Z",
     "start_time": "2021-01-13T11:57:00.099616Z"
    }
   },
   "outputs": [],
   "source": [
    "import pandas as pd\n",
    "import seaborn as sns\n",
    "import numpy as np\n",
    "import matplotlib.pyplot as plt\n",
    "\n",
    "%matplotlib inline\n",
    "sns.set()"
   ]
  },
  {
   "cell_type": "code",
   "execution_count": 2,
   "metadata": {
    "ExecuteTime": {
     "end_time": "2021-01-13T11:57:14.761738Z",
     "start_time": "2021-01-13T11:57:14.746120Z"
    }
   },
   "outputs": [],
   "source": [
    "# Ensure Reproducibility\n",
    "np.random.seed(10)"
   ]
  },
  {
   "cell_type": "code",
   "execution_count": 3,
   "metadata": {
    "ExecuteTime": {
     "end_time": "2021-01-13T11:57:15.466212Z",
     "start_time": "2021-01-13T11:57:14.793027Z"
    }
   },
   "outputs": [
    {
     "data": {
      "text/html": [
       "<div>\n",
       "<style scoped>\n",
       "    .dataframe tbody tr th:only-of-type {\n",
       "        vertical-align: middle;\n",
       "    }\n",
       "\n",
       "    .dataframe tbody tr th {\n",
       "        vertical-align: top;\n",
       "    }\n",
       "\n",
       "    .dataframe thead th {\n",
       "        text-align: right;\n",
       "    }\n",
       "</style>\n",
       "<table border=\"1\" class=\"dataframe\">\n",
       "  <thead>\n",
       "    <tr style=\"text-align: right;\">\n",
       "      <th></th>\n",
       "      <th>fixed acidity</th>\n",
       "      <th>volatile acidity</th>\n",
       "      <th>citric acid</th>\n",
       "      <th>residual sugar</th>\n",
       "      <th>chlorides</th>\n",
       "      <th>free sulfur dioxide</th>\n",
       "      <th>total sulfur dioxide</th>\n",
       "      <th>density</th>\n",
       "      <th>pH</th>\n",
       "      <th>sulphates</th>\n",
       "      <th>alcohol</th>\n",
       "      <th>quality</th>\n",
       "    </tr>\n",
       "  </thead>\n",
       "  <tbody>\n",
       "    <tr>\n",
       "      <th>0</th>\n",
       "      <td>7.4</td>\n",
       "      <td>0.70</td>\n",
       "      <td>0.00</td>\n",
       "      <td>1.9</td>\n",
       "      <td>0.076</td>\n",
       "      <td>11.0</td>\n",
       "      <td>34.0</td>\n",
       "      <td>0.9978</td>\n",
       "      <td>3.51</td>\n",
       "      <td>0.56</td>\n",
       "      <td>9.4</td>\n",
       "      <td>5</td>\n",
       "    </tr>\n",
       "    <tr>\n",
       "      <th>1</th>\n",
       "      <td>7.8</td>\n",
       "      <td>0.88</td>\n",
       "      <td>0.00</td>\n",
       "      <td>2.6</td>\n",
       "      <td>0.098</td>\n",
       "      <td>25.0</td>\n",
       "      <td>67.0</td>\n",
       "      <td>0.9968</td>\n",
       "      <td>3.20</td>\n",
       "      <td>0.68</td>\n",
       "      <td>9.8</td>\n",
       "      <td>5</td>\n",
       "    </tr>\n",
       "    <tr>\n",
       "      <th>2</th>\n",
       "      <td>7.8</td>\n",
       "      <td>0.76</td>\n",
       "      <td>0.04</td>\n",
       "      <td>2.3</td>\n",
       "      <td>0.092</td>\n",
       "      <td>15.0</td>\n",
       "      <td>54.0</td>\n",
       "      <td>0.9970</td>\n",
       "      <td>3.26</td>\n",
       "      <td>0.65</td>\n",
       "      <td>9.8</td>\n",
       "      <td>5</td>\n",
       "    </tr>\n",
       "    <tr>\n",
       "      <th>3</th>\n",
       "      <td>11.2</td>\n",
       "      <td>0.28</td>\n",
       "      <td>0.56</td>\n",
       "      <td>1.9</td>\n",
       "      <td>0.075</td>\n",
       "      <td>17.0</td>\n",
       "      <td>60.0</td>\n",
       "      <td>0.9980</td>\n",
       "      <td>3.16</td>\n",
       "      <td>0.58</td>\n",
       "      <td>9.8</td>\n",
       "      <td>6</td>\n",
       "    </tr>\n",
       "    <tr>\n",
       "      <th>4</th>\n",
       "      <td>7.4</td>\n",
       "      <td>0.70</td>\n",
       "      <td>0.00</td>\n",
       "      <td>1.9</td>\n",
       "      <td>0.076</td>\n",
       "      <td>11.0</td>\n",
       "      <td>34.0</td>\n",
       "      <td>0.9978</td>\n",
       "      <td>3.51</td>\n",
       "      <td>0.56</td>\n",
       "      <td>9.4</td>\n",
       "      <td>5</td>\n",
       "    </tr>\n",
       "  </tbody>\n",
       "</table>\n",
       "</div>"
      ],
      "text/plain": [
       "   fixed acidity  volatile acidity  citric acid  residual sugar  chlorides  \\\n",
       "0            7.4              0.70         0.00             1.9      0.076   \n",
       "1            7.8              0.88         0.00             2.6      0.098   \n",
       "2            7.8              0.76         0.04             2.3      0.092   \n",
       "3           11.2              0.28         0.56             1.9      0.075   \n",
       "4            7.4              0.70         0.00             1.9      0.076   \n",
       "\n",
       "   free sulfur dioxide  total sulfur dioxide  density    pH  sulphates  \\\n",
       "0                 11.0                  34.0   0.9978  3.51       0.56   \n",
       "1                 25.0                  67.0   0.9968  3.20       0.68   \n",
       "2                 15.0                  54.0   0.9970  3.26       0.65   \n",
       "3                 17.0                  60.0   0.9980  3.16       0.58   \n",
       "4                 11.0                  34.0   0.9978  3.51       0.56   \n",
       "\n",
       "   alcohol  quality  \n",
       "0      9.4        5  \n",
       "1      9.8        5  \n",
       "2      9.8        5  \n",
       "3      9.8        6  \n",
       "4      9.4        5  "
      ]
     },
     "execution_count": 3,
     "metadata": {},
     "output_type": "execute_result"
    }
   ],
   "source": [
    "# Read csv\n",
    "data = pd.read_csv('winequality.csv')\n",
    "\n",
    "# view the head\n",
    "data.head()"
   ]
  },
  {
   "cell_type": "code",
   "execution_count": 4,
   "metadata": {
    "ExecuteTime": {
     "end_time": "2021-01-13T11:57:23.889269Z",
     "start_time": "2021-01-13T11:57:23.865266Z"
    }
   },
   "outputs": [],
   "source": [
    "# Describe our data for each feature and use .info() for get information about our dataset\n",
    "# Analyse missing values"
   ]
  },
  {
   "cell_type": "code",
   "execution_count": 5,
   "metadata": {
    "ExecuteTime": {
     "end_time": "2021-01-13T11:57:24.795430Z",
     "start_time": "2021-01-13T11:57:24.619456Z"
    },
    "scrolled": true
   },
   "outputs": [
    {
     "data": {
      "text/html": [
       "<div>\n",
       "<style scoped>\n",
       "    .dataframe tbody tr th:only-of-type {\n",
       "        vertical-align: middle;\n",
       "    }\n",
       "\n",
       "    .dataframe tbody tr th {\n",
       "        vertical-align: top;\n",
       "    }\n",
       "\n",
       "    .dataframe thead th {\n",
       "        text-align: right;\n",
       "    }\n",
       "</style>\n",
       "<table border=\"1\" class=\"dataframe\">\n",
       "  <thead>\n",
       "    <tr style=\"text-align: right;\">\n",
       "      <th></th>\n",
       "      <th>fixed acidity</th>\n",
       "      <th>volatile acidity</th>\n",
       "      <th>citric acid</th>\n",
       "      <th>residual sugar</th>\n",
       "      <th>chlorides</th>\n",
       "      <th>free sulfur dioxide</th>\n",
       "      <th>total sulfur dioxide</th>\n",
       "      <th>density</th>\n",
       "      <th>pH</th>\n",
       "      <th>sulphates</th>\n",
       "      <th>alcohol</th>\n",
       "      <th>quality</th>\n",
       "    </tr>\n",
       "  </thead>\n",
       "  <tbody>\n",
       "    <tr>\n",
       "      <th>count</th>\n",
       "      <td>1599.000000</td>\n",
       "      <td>1599.000000</td>\n",
       "      <td>1599.000000</td>\n",
       "      <td>1599.000000</td>\n",
       "      <td>1599.000000</td>\n",
       "      <td>1599.000000</td>\n",
       "      <td>1599.000000</td>\n",
       "      <td>1599.000000</td>\n",
       "      <td>1599.000000</td>\n",
       "      <td>1599.000000</td>\n",
       "      <td>1599.000000</td>\n",
       "      <td>1599.000000</td>\n",
       "    </tr>\n",
       "    <tr>\n",
       "      <th>mean</th>\n",
       "      <td>8.319637</td>\n",
       "      <td>0.527821</td>\n",
       "      <td>0.270976</td>\n",
       "      <td>2.538806</td>\n",
       "      <td>0.087467</td>\n",
       "      <td>15.874922</td>\n",
       "      <td>46.467792</td>\n",
       "      <td>0.996747</td>\n",
       "      <td>3.311113</td>\n",
       "      <td>0.658149</td>\n",
       "      <td>10.422983</td>\n",
       "      <td>5.636023</td>\n",
       "    </tr>\n",
       "    <tr>\n",
       "      <th>std</th>\n",
       "      <td>1.741096</td>\n",
       "      <td>0.179060</td>\n",
       "      <td>0.194801</td>\n",
       "      <td>1.409928</td>\n",
       "      <td>0.047065</td>\n",
       "      <td>10.460157</td>\n",
       "      <td>32.895324</td>\n",
       "      <td>0.001887</td>\n",
       "      <td>0.154386</td>\n",
       "      <td>0.169507</td>\n",
       "      <td>1.065668</td>\n",
       "      <td>0.807569</td>\n",
       "    </tr>\n",
       "    <tr>\n",
       "      <th>min</th>\n",
       "      <td>4.600000</td>\n",
       "      <td>0.120000</td>\n",
       "      <td>0.000000</td>\n",
       "      <td>0.900000</td>\n",
       "      <td>0.012000</td>\n",
       "      <td>1.000000</td>\n",
       "      <td>6.000000</td>\n",
       "      <td>0.990070</td>\n",
       "      <td>2.740000</td>\n",
       "      <td>0.330000</td>\n",
       "      <td>8.400000</td>\n",
       "      <td>3.000000</td>\n",
       "    </tr>\n",
       "    <tr>\n",
       "      <th>25%</th>\n",
       "      <td>7.100000</td>\n",
       "      <td>0.390000</td>\n",
       "      <td>0.090000</td>\n",
       "      <td>1.900000</td>\n",
       "      <td>0.070000</td>\n",
       "      <td>7.000000</td>\n",
       "      <td>22.000000</td>\n",
       "      <td>0.995600</td>\n",
       "      <td>3.210000</td>\n",
       "      <td>0.550000</td>\n",
       "      <td>9.500000</td>\n",
       "      <td>5.000000</td>\n",
       "    </tr>\n",
       "    <tr>\n",
       "      <th>50%</th>\n",
       "      <td>7.900000</td>\n",
       "      <td>0.520000</td>\n",
       "      <td>0.260000</td>\n",
       "      <td>2.200000</td>\n",
       "      <td>0.079000</td>\n",
       "      <td>14.000000</td>\n",
       "      <td>38.000000</td>\n",
       "      <td>0.996750</td>\n",
       "      <td>3.310000</td>\n",
       "      <td>0.620000</td>\n",
       "      <td>10.200000</td>\n",
       "      <td>6.000000</td>\n",
       "    </tr>\n",
       "    <tr>\n",
       "      <th>75%</th>\n",
       "      <td>9.200000</td>\n",
       "      <td>0.640000</td>\n",
       "      <td>0.420000</td>\n",
       "      <td>2.600000</td>\n",
       "      <td>0.090000</td>\n",
       "      <td>21.000000</td>\n",
       "      <td>62.000000</td>\n",
       "      <td>0.997835</td>\n",
       "      <td>3.400000</td>\n",
       "      <td>0.730000</td>\n",
       "      <td>11.100000</td>\n",
       "      <td>6.000000</td>\n",
       "    </tr>\n",
       "    <tr>\n",
       "      <th>max</th>\n",
       "      <td>15.900000</td>\n",
       "      <td>1.580000</td>\n",
       "      <td>1.000000</td>\n",
       "      <td>15.500000</td>\n",
       "      <td>0.611000</td>\n",
       "      <td>72.000000</td>\n",
       "      <td>289.000000</td>\n",
       "      <td>1.003690</td>\n",
       "      <td>4.010000</td>\n",
       "      <td>2.000000</td>\n",
       "      <td>14.900000</td>\n",
       "      <td>8.000000</td>\n",
       "    </tr>\n",
       "  </tbody>\n",
       "</table>\n",
       "</div>"
      ],
      "text/plain": [
       "       fixed acidity  volatile acidity  citric acid  residual sugar  \\\n",
       "count    1599.000000       1599.000000  1599.000000     1599.000000   \n",
       "mean        8.319637          0.527821     0.270976        2.538806   \n",
       "std         1.741096          0.179060     0.194801        1.409928   \n",
       "min         4.600000          0.120000     0.000000        0.900000   \n",
       "25%         7.100000          0.390000     0.090000        1.900000   \n",
       "50%         7.900000          0.520000     0.260000        2.200000   \n",
       "75%         9.200000          0.640000     0.420000        2.600000   \n",
       "max        15.900000          1.580000     1.000000       15.500000   \n",
       "\n",
       "         chlorides  free sulfur dioxide  total sulfur dioxide      density  \\\n",
       "count  1599.000000          1599.000000           1599.000000  1599.000000   \n",
       "mean      0.087467            15.874922             46.467792     0.996747   \n",
       "std       0.047065            10.460157             32.895324     0.001887   \n",
       "min       0.012000             1.000000              6.000000     0.990070   \n",
       "25%       0.070000             7.000000             22.000000     0.995600   \n",
       "50%       0.079000            14.000000             38.000000     0.996750   \n",
       "75%       0.090000            21.000000             62.000000     0.997835   \n",
       "max       0.611000            72.000000            289.000000     1.003690   \n",
       "\n",
       "                pH    sulphates      alcohol      quality  \n",
       "count  1599.000000  1599.000000  1599.000000  1599.000000  \n",
       "mean      3.311113     0.658149    10.422983     5.636023  \n",
       "std       0.154386     0.169507     1.065668     0.807569  \n",
       "min       2.740000     0.330000     8.400000     3.000000  \n",
       "25%       3.210000     0.550000     9.500000     5.000000  \n",
       "50%       3.310000     0.620000    10.200000     6.000000  \n",
       "75%       3.400000     0.730000    11.100000     6.000000  \n",
       "max       4.010000     2.000000    14.900000     8.000000  "
      ]
     },
     "execution_count": 5,
     "metadata": {},
     "output_type": "execute_result"
    }
   ],
   "source": [
    "# describing our data\n",
    "\n",
    "data.describe()"
   ]
  },
  {
   "cell_type": "code",
   "execution_count": 6,
   "metadata": {
    "ExecuteTime": {
     "end_time": "2021-01-13T11:57:26.425268Z",
     "start_time": "2021-01-13T11:57:26.356127Z"
    }
   },
   "outputs": [
    {
     "name": "stdout",
     "output_type": "stream",
     "text": [
      "<class 'pandas.core.frame.DataFrame'>\n",
      "RangeIndex: 1599 entries, 0 to 1598\n",
      "Data columns (total 12 columns):\n",
      "fixed acidity           1599 non-null float64\n",
      "volatile acidity        1599 non-null float64\n",
      "citric acid             1599 non-null float64\n",
      "residual sugar          1599 non-null float64\n",
      "chlorides               1599 non-null float64\n",
      "free sulfur dioxide     1599 non-null float64\n",
      "total sulfur dioxide    1599 non-null float64\n",
      "density                 1599 non-null float64\n",
      "pH                      1599 non-null float64\n",
      "sulphates               1599 non-null float64\n",
      "alcohol                 1599 non-null float64\n",
      "quality                 1599 non-null int64\n",
      "dtypes: float64(11), int64(1)\n",
      "memory usage: 150.0 KB\n"
     ]
    }
   ],
   "source": [
    "# checking the complete summary of our dataset\n",
    "\n",
    "data.info()"
   ]
  },
  {
   "cell_type": "code",
   "execution_count": 7,
   "metadata": {
    "ExecuteTime": {
     "end_time": "2021-01-13T11:57:29.022095Z",
     "start_time": "2021-01-13T11:57:28.982093Z"
    }
   },
   "outputs": [
    {
     "data": {
      "text/plain": [
       "fixed acidity           0\n",
       "volatile acidity        0\n",
       "citric acid             0\n",
       "residual sugar          0\n",
       "chlorides               0\n",
       "free sulfur dioxide     0\n",
       "total sulfur dioxide    0\n",
       "density                 0\n",
       "pH                      0\n",
       "sulphates               0\n",
       "alcohol                 0\n",
       "quality                 0\n",
       "dtype: int64"
      ]
     },
     "execution_count": 7,
     "metadata": {},
     "output_type": "execute_result"
    }
   ],
   "source": [
    "# Analysising the dataset to see if there are missing variables present\n",
    "\n",
    "data.isna().sum()"
   ]
  },
  {
   "cell_type": "markdown",
   "metadata": {},
   "source": [
    "# From the code above we noticed that\n",
    "\n",
    "- All the columns contain numerical variables (floating point numbers and integers)\n",
    "- There are therefore no categorical columns present\n",
    "- There are also no missing variables present so we proceed to the next step."
   ]
  },
  {
   "cell_type": "markdown",
   "metadata": {},
   "source": [
    "## Feature Engineering"
   ]
  },
  {
   "cell_type": "code",
   "execution_count": 8,
   "metadata": {
    "ExecuteTime": {
     "end_time": "2021-01-13T12:14:22.436340Z",
     "start_time": "2021-01-13T12:14:22.388356Z"
    }
   },
   "outputs": [],
   "source": [
    "def status(x):\n",
    "    if x < 5:\n",
    "        return 0\n",
    "    elif x >= 5 and x < 7:\n",
    "        return 1\n",
    "    else:\n",
    "        return 2\n",
    "    \n",
    "def status2(x):\n",
    "    if x < 7:\n",
    "        return 0\n",
    "    else:\n",
    "        return 1\n",
    "    \n",
    "data['quality1'] = data['quality'].apply(status) # splitting the wine into bad, average and good quality\n",
    "data['quality2'] = data['quality'].apply(status2) # splitting the wine into bad and good quality "
   ]
  },
  {
   "cell_type": "markdown",
   "metadata": {},
   "source": [
    "# Exploratory Data Analysis"
   ]
  },
  {
   "cell_type": "code",
   "execution_count": 9,
   "metadata": {
    "ExecuteTime": {
     "end_time": "2021-01-13T12:15:14.299052Z",
     "start_time": "2021-01-13T12:15:13.862659Z"
    },
    "scrolled": true
   },
   "outputs": [
    {
     "data": {
      "text/plain": [
       "<matplotlib.axes._subplots.AxesSubplot at 0x2209546a148>"
      ]
     },
     "execution_count": 9,
     "metadata": {},
     "output_type": "execute_result"
    },
    {
     "data": {
      "image/png": "[encoded data removed]",
      "text/plain": [
       "<Figure size 432x288 with 1 Axes>"
      ]
     },
     "metadata": {
      "needs_background": "light"
     },
     "output_type": "display_data"
    }
   ],
   "source": [
    "# Our label Distribution (countplot)\n",
    "sns.countplot(data['quality'])"
   ]
  },
  {
   "cell_type": "code",
   "execution_count": 10,
   "metadata": {
    "ExecuteTime": {
     "end_time": "2021-01-13T12:15:16.125276Z",
     "start_time": "2021-01-13T12:15:15.884426Z"
    }
   },
   "outputs": [
    {
     "data": {
      "text/plain": [
       "<matplotlib.axes._subplots.AxesSubplot at 0x220957d0308>"
      ]
     },
     "execution_count": 10,
     "metadata": {},
     "output_type": "execute_result"
    },
    {
     "data": {
      "image/png": "[encoded data removed]",
      "text/plain": [
       "<Figure size 432x288 with 1 Axes>"
      ]
     },
     "metadata": {
      "needs_background": "light"
     },
     "output_type": "display_data"
    }
   ],
   "source": [
    "sns.countplot(data['quality1'])"
   ]
  },
  {
   "cell_type": "code",
   "execution_count": 11,
   "metadata": {
    "ExecuteTime": {
     "end_time": "2021-01-13T12:15:40.656155Z",
     "start_time": "2021-01-13T12:15:40.289210Z"
    }
   },
   "outputs": [
    {
     "data": {
      "text/plain": [
       "<matplotlib.axes._subplots.AxesSubplot at 0x2209581ed88>"
      ]
     },
     "execution_count": 11,
     "metadata": {},
     "output_type": "execute_result"
    },
    {
     "data": {
      "image/png": "[encoded data removed]",
      "text/plain": [
       "<Figure size 432x288 with 1 Axes>"
      ]
     },
     "metadata": {
      "needs_background": "light"
     },
     "output_type": "display_data"
    }
   ],
   "source": [
    "sns.countplot(data['quality2'])"
   ]
  },
  {
   "cell_type": "code",
   "execution_count": 12,
   "metadata": {
    "ExecuteTime": {
     "end_time": "2021-01-13T12:19:48.358435Z",
     "start_time": "2021-01-13T12:19:47.739017Z"
    },
    "scrolled": true
   },
   "outputs": [
    {
     "data": {
      "text/plain": [
       "<matplotlib.axes._subplots.AxesSubplot at 0x220958825c8>"
      ]
     },
     "execution_count": 12,
     "metadata": {},
     "output_type": "execute_result"
    },
    {
     "data": {
      "image/png": "[encoded data removed]",
      "text/plain": [
       "<Figure size 432x288 with 1 Axes>"
      ]
     },
     "metadata": {
      "needs_background": "light"
     },
     "output_type": "display_data"
    }
   ],
   "source": [
    "# Example EDA (distplot)\n",
    "sns.distplot(data['citric acid'])"
   ]
  },
  {
   "cell_type": "code",
   "execution_count": 13,
   "metadata": {
    "ExecuteTime": {
     "end_time": "2021-01-13T12:19:53.633030Z",
     "start_time": "2021-01-13T12:19:51.444609Z"
    }
   },
   "outputs": [
    {
     "data": {
      "text/plain": [
       "<matplotlib.axes._subplots.AxesSubplot at 0x22095938288>"
      ]
     },
     "execution_count": 13,
     "metadata": {},
     "output_type": "execute_result"
    },
    {
     "data": {
      "image/png": "[encoded data removed]",
      "text/plain": [
       "<Figure size 1080x576 with 2 Axes>"
      ]
     },
     "metadata": {
      "needs_background": "light"
     },
     "output_type": "display_data"
    }
   ],
   "source": [
    "# heatmap of the entire dataset\n",
    "plt.figure(figsize=(15,8))\n",
    "sns.heatmap(data.corr(), cmap='coolwarm', annot=True)"
   ]
  },
  {
   "cell_type": "code",
   "execution_count": 22,
   "metadata": {
    "ExecuteTime": {
     "end_time": "2021-01-13T12:24:41.582119Z",
     "start_time": "2021-01-13T12:24:38.891137Z"
    }
   },
   "outputs": [
    {
     "data": {
      "text/plain": [
       "<seaborn.matrix.ClusterGrid at 0x2209afbcd88>"
      ]
     },
     "execution_count": 22,
     "metadata": {},
     "output_type": "execute_result"
    },
    {
     "data": {
      "text/plain": [
       "<Figure size 1080x720 with 0 Axes>"
      ]
     },
     "metadata": {},
     "output_type": "display_data"
    },
    {
     "data": {
      "image/png": "[encoded data removed]",
      "text/plain": [
       "<Figure size 720x720 with 4 Axes>"
      ]
     },
     "metadata": {
      "needs_background": "light"
     },
     "output_type": "display_data"
    }
   ],
   "source": [
    "plt.figure(figsize=(15,10))\n",
    "sns.clustermap(data.corr(), linewidth=2, cmap='coolwarm', annot=True)"
   ]
  },
  {
   "cell_type": "code",
   "execution_count": 23,
   "metadata": {
    "ExecuteTime": {
     "end_time": "2021-01-13T12:25:07.641206Z",
     "start_time": "2021-01-13T12:25:07.610333Z"
    }
   },
   "outputs": [
    {
     "data": {
      "text/plain": [
       "fixed acidity           0.124052\n",
       "volatile acidity       -0.390558\n",
       "citric acid             0.226373\n",
       "residual sugar          0.013732\n",
       "chlorides              -0.128907\n",
       "free sulfur dioxide    -0.050656\n",
       "total sulfur dioxide   -0.185100\n",
       "density                -0.174919\n",
       "pH                     -0.057731\n",
       "sulphates               0.251397\n",
       "alcohol                 0.476166\n",
       "quality                 1.000000\n",
       "quality1                0.812367\n",
       "quality2                0.710196\n",
       "Name: quality, dtype: float64"
      ]
     },
     "execution_count": 23,
     "metadata": {},
     "output_type": "execute_result"
    }
   ],
   "source": [
    "# checking the correlation of the columns to quality feature\n",
    "\n",
    "data.corr()['quality']"
   ]
  },
  {
   "cell_type": "code",
   "execution_count": 17,
   "metadata": {
    "ExecuteTime": {
     "end_time": "2021-01-13T12:20:56.579431Z",
     "start_time": "2021-01-13T12:20:52.781831Z"
    }
   },
   "outputs": [
    {
     "data": {
      "text/plain": [
       "fixed acidity               AxesSubplot(0.125,0.71587;0.168478x0.16413)\n",
       "volatile acidity         AxesSubplot(0.327174,0.71587;0.168478x0.16413)\n",
       "citric acid              AxesSubplot(0.529348,0.71587;0.168478x0.16413)\n",
       "residual sugar           AxesSubplot(0.731522,0.71587;0.168478x0.16413)\n",
       "chlorides                  AxesSubplot(0.125,0.518913;0.168478x0.16413)\n",
       "free sulfur dioxide     AxesSubplot(0.327174,0.518913;0.168478x0.16413)\n",
       "total sulfur dioxide    AxesSubplot(0.529348,0.518913;0.168478x0.16413)\n",
       "density                 AxesSubplot(0.731522,0.518913;0.168478x0.16413)\n",
       "pH                         AxesSubplot(0.125,0.321957;0.168478x0.16413)\n",
       "sulphates               AxesSubplot(0.327174,0.321957;0.168478x0.16413)\n",
       "alcohol                 AxesSubplot(0.529348,0.321957;0.168478x0.16413)\n",
       "quality                 AxesSubplot(0.731522,0.321957;0.168478x0.16413)\n",
       "quality1                      AxesSubplot(0.125,0.125;0.168478x0.16413)\n",
       "quality2                   AxesSubplot(0.327174,0.125;0.168478x0.16413)\n",
       "dtype: object"
      ]
     },
     "execution_count": 17,
     "metadata": {},
     "output_type": "execute_result"
    },
    {
     "data": {
      "image/png": "[encoded data removed]",
      "text/plain": [
       "<Figure size 1080x1080 with 16 Axes>"
      ]
     },
     "metadata": {
      "needs_background": "light"
     },
     "output_type": "display_data"
    }
   ],
   "source": [
    "# box plot of the entire dataset to check for outliers\n",
    "\n",
    "data.plot(kind='box', subplots=True, layout=(4, 4), sharex=False, sharey=False,\n",
    "          figsize=(15, 15), title='Boxplot of each column in the dataset')"
   ]
  },
  {
   "cell_type": "code",
   "execution_count": 18,
   "metadata": {
    "ExecuteTime": {
     "end_time": "2021-01-13T12:21:21.643869Z",
     "start_time": "2021-01-13T12:21:13.557593Z"
    },
    "scrolled": false
   },
   "outputs": [
    {
     "data": {
      "text/plain": [
       "array([[<matplotlib.axes._subplots.AxesSubplot object at 0x0000022099315DC8>,\n",
       "        <matplotlib.axes._subplots.AxesSubplot object at 0x0000022099328E08>,\n",
       "        <matplotlib.axes._subplots.AxesSubplot object at 0x000002209934A548>,\n",
       "        <matplotlib.axes._subplots.AxesSubplot object at 0x0000022098AAEC88>],\n",
       "       [<matplotlib.axes._subplots.AxesSubplot object at 0x0000022098AEB408>,\n",
       "        <matplotlib.axes._subplots.AxesSubplot object at 0x0000022098B1EE88>,\n",
       "        <matplotlib.axes._subplots.AxesSubplot object at 0x0000022098B57C88>,\n",
       "        <matplotlib.axes._subplots.AxesSubplot object at 0x0000022098B91A88>],\n",
       "       [<matplotlib.axes._subplots.AxesSubplot object at 0x0000022098B91C88>,\n",
       "        <matplotlib.axes._subplots.AxesSubplot object at 0x0000022098BCAB08>,\n",
       "        <matplotlib.axes._subplots.AxesSubplot object at 0x0000022098C3B488>,\n",
       "        <matplotlib.axes._subplots.AxesSubplot object at 0x0000022098C74188>],\n",
       "       [<matplotlib.axes._subplots.AxesSubplot object at 0x0000022098CA7F08>,\n",
       "        <matplotlib.axes._subplots.AxesSubplot object at 0x0000022098CE1C88>,\n",
       "        <matplotlib.axes._subplots.AxesSubplot object at 0x0000022098D18A08>,\n",
       "        <matplotlib.axes._subplots.AxesSubplot object at 0x0000022098D54888>]],\n",
       "      dtype=object)"
      ]
     },
     "execution_count": 18,
     "metadata": {},
     "output_type": "execute_result"
    },
    {
     "data": {
      "image/png": "[encoded data removed]",
      "text/plain": [
       "<Figure size 1080x1080 with 16 Axes>"
      ]
     },
     "metadata": {
      "needs_background": "light"
     },
     "output_type": "display_data"
    }
   ],
   "source": [
    "# distplot of the entire dataset to know how to scale each feature\n",
    "\n",
    "data.hist(bins=50, figsize=(15,15))"
   ]
  },
  {
   "cell_type": "markdown",
   "metadata": {},
   "source": [
    "# Things i noticed\n",
    "\n",
    "- The most of the columns contain a lot of outliers\n",
    "- The heatmap showed that some of the columns exhibited qualities of multicolinearity namely (total and free sulphur dioxide)\n",
    "- Fixed acidity also showed strong similiarities to both density and citric acid\n",
    "- Alcohol showed the strongest positive correlation to quality while volatile acidity showed the strongest neagative correlation"
   ]
  },
  {
   "cell_type": "markdown",
   "metadata": {},
   "source": [
    "# Preprocessing\n",
    "\n",
    "- Are there any duplicated values?\n",
    "- Do we need to do feature scaling?\n",
    "- Do we need to generate new features?\n",
    "- Split Train and Test dataset. (0.7/0.3)"
   ]
  },
  {
   "cell_type": "code",
   "execution_count": 18,
   "metadata": {
    "ExecuteTime": {
     "end_time": "2020-11-27T13:35:34.714673Z",
     "start_time": "2020-11-27T13:35:34.686677Z"
    }
   },
   "outputs": [
    {
     "data": {
      "text/plain": [
       "240"
      ]
     },
     "execution_count": 18,
     "metadata": {},
     "output_type": "execute_result"
    }
   ],
   "source": [
    "# checking to see if there are any duplicate features present\n",
    "\n",
    "data.duplicated().sum()"
   ]
  },
  {
   "cell_type": "code",
   "execution_count": 19,
   "metadata": {
    "ExecuteTime": {
     "end_time": "2020-11-27T13:35:35.028975Z",
     "start_time": "2020-11-27T13:35:34.952976Z"
    },
    "scrolled": true
   },
   "outputs": [
    {
     "data": {
      "text/html": [
       "<div>\n",
       "<style scoped>\n",
       "    .dataframe tbody tr th:only-of-type {\n",
       "        vertical-align: middle;\n",
       "    }\n",
       "\n",
       "    .dataframe tbody tr th {\n",
       "        vertical-align: top;\n",
       "    }\n",
       "\n",
       "    .dataframe thead th {\n",
       "        text-align: right;\n",
       "    }\n",
       "</style>\n",
       "<table border=\"1\" class=\"dataframe\">\n",
       "  <thead>\n",
       "    <tr style=\"text-align: right;\">\n",
       "      <th></th>\n",
       "      <th>fixed acidity</th>\n",
       "      <th>volatile acidity</th>\n",
       "      <th>citric acid</th>\n",
       "      <th>residual sugar</th>\n",
       "      <th>chlorides</th>\n",
       "      <th>free sulfur dioxide</th>\n",
       "      <th>total sulfur dioxide</th>\n",
       "      <th>density</th>\n",
       "      <th>pH</th>\n",
       "      <th>sulphates</th>\n",
       "      <th>alcohol</th>\n",
       "      <th>quality</th>\n",
       "    </tr>\n",
       "  </thead>\n",
       "  <tbody>\n",
       "    <tr>\n",
       "      <th>0</th>\n",
       "      <td>7.4</td>\n",
       "      <td>0.700</td>\n",
       "      <td>0.00</td>\n",
       "      <td>1.90</td>\n",
       "      <td>0.076</td>\n",
       "      <td>11.0</td>\n",
       "      <td>34.0</td>\n",
       "      <td>0.99780</td>\n",
       "      <td>3.51</td>\n",
       "      <td>0.56</td>\n",
       "      <td>9.4</td>\n",
       "      <td>5</td>\n",
       "    </tr>\n",
       "    <tr>\n",
       "      <th>4</th>\n",
       "      <td>7.4</td>\n",
       "      <td>0.700</td>\n",
       "      <td>0.00</td>\n",
       "      <td>1.90</td>\n",
       "      <td>0.076</td>\n",
       "      <td>11.0</td>\n",
       "      <td>34.0</td>\n",
       "      <td>0.99780</td>\n",
       "      <td>3.51</td>\n",
       "      <td>0.56</td>\n",
       "      <td>9.4</td>\n",
       "      <td>5</td>\n",
       "    </tr>\n",
       "    <tr>\n",
       "      <th>9</th>\n",
       "      <td>7.5</td>\n",
       "      <td>0.500</td>\n",
       "      <td>0.36</td>\n",
       "      <td>6.10</td>\n",
       "      <td>0.071</td>\n",
       "      <td>17.0</td>\n",
       "      <td>102.0</td>\n",
       "      <td>0.99780</td>\n",
       "      <td>3.35</td>\n",
       "      <td>0.80</td>\n",
       "      <td>10.5</td>\n",
       "      <td>5</td>\n",
       "    </tr>\n",
       "    <tr>\n",
       "      <th>11</th>\n",
       "      <td>7.5</td>\n",
       "      <td>0.500</td>\n",
       "      <td>0.36</td>\n",
       "      <td>6.10</td>\n",
       "      <td>0.071</td>\n",
       "      <td>17.0</td>\n",
       "      <td>102.0</td>\n",
       "      <td>0.99780</td>\n",
       "      <td>3.35</td>\n",
       "      <td>0.80</td>\n",
       "      <td>10.5</td>\n",
       "      <td>5</td>\n",
       "    </tr>\n",
       "    <tr>\n",
       "      <th>22</th>\n",
       "      <td>7.9</td>\n",
       "      <td>0.430</td>\n",
       "      <td>0.21</td>\n",
       "      <td>1.60</td>\n",
       "      <td>0.106</td>\n",
       "      <td>10.0</td>\n",
       "      <td>37.0</td>\n",
       "      <td>0.99660</td>\n",
       "      <td>3.17</td>\n",
       "      <td>0.91</td>\n",
       "      <td>9.5</td>\n",
       "      <td>5</td>\n",
       "    </tr>\n",
       "    <tr>\n",
       "      <th>27</th>\n",
       "      <td>7.9</td>\n",
       "      <td>0.430</td>\n",
       "      <td>0.21</td>\n",
       "      <td>1.60</td>\n",
       "      <td>0.106</td>\n",
       "      <td>10.0</td>\n",
       "      <td>37.0</td>\n",
       "      <td>0.99660</td>\n",
       "      <td>3.17</td>\n",
       "      <td>0.91</td>\n",
       "      <td>9.5</td>\n",
       "      <td>5</td>\n",
       "    </tr>\n",
       "    <tr>\n",
       "      <th>39</th>\n",
       "      <td>7.3</td>\n",
       "      <td>0.450</td>\n",
       "      <td>0.36</td>\n",
       "      <td>5.90</td>\n",
       "      <td>0.074</td>\n",
       "      <td>12.0</td>\n",
       "      <td>87.0</td>\n",
       "      <td>0.99780</td>\n",
       "      <td>3.33</td>\n",
       "      <td>0.83</td>\n",
       "      <td>10.5</td>\n",
       "      <td>5</td>\n",
       "    </tr>\n",
       "    <tr>\n",
       "      <th>40</th>\n",
       "      <td>7.3</td>\n",
       "      <td>0.450</td>\n",
       "      <td>0.36</td>\n",
       "      <td>5.90</td>\n",
       "      <td>0.074</td>\n",
       "      <td>12.0</td>\n",
       "      <td>87.0</td>\n",
       "      <td>0.99780</td>\n",
       "      <td>3.33</td>\n",
       "      <td>0.83</td>\n",
       "      <td>10.5</td>\n",
       "      <td>5</td>\n",
       "    </tr>\n",
       "    <tr>\n",
       "      <th>64</th>\n",
       "      <td>7.2</td>\n",
       "      <td>0.725</td>\n",
       "      <td>0.05</td>\n",
       "      <td>4.65</td>\n",
       "      <td>0.086</td>\n",
       "      <td>4.0</td>\n",
       "      <td>11.0</td>\n",
       "      <td>0.99620</td>\n",
       "      <td>3.41</td>\n",
       "      <td>0.39</td>\n",
       "      <td>10.9</td>\n",
       "      <td>5</td>\n",
       "    </tr>\n",
       "    <tr>\n",
       "      <th>65</th>\n",
       "      <td>7.2</td>\n",
       "      <td>0.725</td>\n",
       "      <td>0.05</td>\n",
       "      <td>4.65</td>\n",
       "      <td>0.086</td>\n",
       "      <td>4.0</td>\n",
       "      <td>11.0</td>\n",
       "      <td>0.99620</td>\n",
       "      <td>3.41</td>\n",
       "      <td>0.39</td>\n",
       "      <td>10.9</td>\n",
       "      <td>5</td>\n",
       "    </tr>\n",
       "    <tr>\n",
       "      <th>75</th>\n",
       "      <td>8.8</td>\n",
       "      <td>0.410</td>\n",
       "      <td>0.64</td>\n",
       "      <td>2.20</td>\n",
       "      <td>0.093</td>\n",
       "      <td>9.0</td>\n",
       "      <td>42.0</td>\n",
       "      <td>0.99860</td>\n",
       "      <td>3.54</td>\n",
       "      <td>0.66</td>\n",
       "      <td>10.5</td>\n",
       "      <td>5</td>\n",
       "    </tr>\n",
       "    <tr>\n",
       "      <th>76</th>\n",
       "      <td>8.8</td>\n",
       "      <td>0.410</td>\n",
       "      <td>0.64</td>\n",
       "      <td>2.20</td>\n",
       "      <td>0.093</td>\n",
       "      <td>9.0</td>\n",
       "      <td>42.0</td>\n",
       "      <td>0.99860</td>\n",
       "      <td>3.54</td>\n",
       "      <td>0.66</td>\n",
       "      <td>10.5</td>\n",
       "      <td>5</td>\n",
       "    </tr>\n",
       "    <tr>\n",
       "      <th>86</th>\n",
       "      <td>8.6</td>\n",
       "      <td>0.490</td>\n",
       "      <td>0.28</td>\n",
       "      <td>1.90</td>\n",
       "      <td>0.110</td>\n",
       "      <td>20.0</td>\n",
       "      <td>136.0</td>\n",
       "      <td>0.99720</td>\n",
       "      <td>2.93</td>\n",
       "      <td>1.95</td>\n",
       "      <td>9.9</td>\n",
       "      <td>6</td>\n",
       "    </tr>\n",
       "    <tr>\n",
       "      <th>87</th>\n",
       "      <td>7.7</td>\n",
       "      <td>0.490</td>\n",
       "      <td>0.26</td>\n",
       "      <td>1.90</td>\n",
       "      <td>0.062</td>\n",
       "      <td>9.0</td>\n",
       "      <td>31.0</td>\n",
       "      <td>0.99660</td>\n",
       "      <td>3.39</td>\n",
       "      <td>0.64</td>\n",
       "      <td>9.6</td>\n",
       "      <td>5</td>\n",
       "    </tr>\n",
       "    <tr>\n",
       "      <th>91</th>\n",
       "      <td>8.6</td>\n",
       "      <td>0.490</td>\n",
       "      <td>0.28</td>\n",
       "      <td>1.90</td>\n",
       "      <td>0.110</td>\n",
       "      <td>20.0</td>\n",
       "      <td>136.0</td>\n",
       "      <td>0.99720</td>\n",
       "      <td>2.93</td>\n",
       "      <td>1.95</td>\n",
       "      <td>9.9</td>\n",
       "      <td>6</td>\n",
       "    </tr>\n",
       "    <tr>\n",
       "      <th>93</th>\n",
       "      <td>7.7</td>\n",
       "      <td>0.490</td>\n",
       "      <td>0.26</td>\n",
       "      <td>1.90</td>\n",
       "      <td>0.062</td>\n",
       "      <td>9.0</td>\n",
       "      <td>31.0</td>\n",
       "      <td>0.99660</td>\n",
       "      <td>3.39</td>\n",
       "      <td>0.64</td>\n",
       "      <td>9.6</td>\n",
       "      <td>5</td>\n",
       "    </tr>\n",
       "    <tr>\n",
       "      <th>99</th>\n",
       "      <td>8.1</td>\n",
       "      <td>0.545</td>\n",
       "      <td>0.18</td>\n",
       "      <td>1.90</td>\n",
       "      <td>0.080</td>\n",
       "      <td>13.0</td>\n",
       "      <td>35.0</td>\n",
       "      <td>0.99720</td>\n",
       "      <td>3.30</td>\n",
       "      <td>0.59</td>\n",
       "      <td>9.0</td>\n",
       "      <td>6</td>\n",
       "    </tr>\n",
       "    <tr>\n",
       "      <th>102</th>\n",
       "      <td>8.1</td>\n",
       "      <td>0.545</td>\n",
       "      <td>0.18</td>\n",
       "      <td>1.90</td>\n",
       "      <td>0.080</td>\n",
       "      <td>13.0</td>\n",
       "      <td>35.0</td>\n",
       "      <td>0.99720</td>\n",
       "      <td>3.30</td>\n",
       "      <td>0.59</td>\n",
       "      <td>9.0</td>\n",
       "      <td>6</td>\n",
       "    </tr>\n",
       "    <tr>\n",
       "      <th>103</th>\n",
       "      <td>8.1</td>\n",
       "      <td>0.575</td>\n",
       "      <td>0.22</td>\n",
       "      <td>2.10</td>\n",
       "      <td>0.077</td>\n",
       "      <td>12.0</td>\n",
       "      <td>65.0</td>\n",
       "      <td>0.99670</td>\n",
       "      <td>3.29</td>\n",
       "      <td>0.51</td>\n",
       "      <td>9.2</td>\n",
       "      <td>5</td>\n",
       "    </tr>\n",
       "    <tr>\n",
       "      <th>105</th>\n",
       "      <td>8.1</td>\n",
       "      <td>0.575</td>\n",
       "      <td>0.22</td>\n",
       "      <td>2.10</td>\n",
       "      <td>0.077</td>\n",
       "      <td>12.0</td>\n",
       "      <td>65.0</td>\n",
       "      <td>0.99670</td>\n",
       "      <td>3.29</td>\n",
       "      <td>0.51</td>\n",
       "      <td>9.2</td>\n",
       "      <td>5</td>\n",
       "    </tr>\n",
       "    <tr>\n",
       "      <th>110</th>\n",
       "      <td>7.8</td>\n",
       "      <td>0.560</td>\n",
       "      <td>0.19</td>\n",
       "      <td>1.80</td>\n",
       "      <td>0.104</td>\n",
       "      <td>12.0</td>\n",
       "      <td>47.0</td>\n",
       "      <td>0.99640</td>\n",
       "      <td>3.19</td>\n",
       "      <td>0.93</td>\n",
       "      <td>9.5</td>\n",
       "      <td>5</td>\n",
       "    </tr>\n",
       "    <tr>\n",
       "      <th>114</th>\n",
       "      <td>7.8</td>\n",
       "      <td>0.560</td>\n",
       "      <td>0.19</td>\n",
       "      <td>1.80</td>\n",
       "      <td>0.104</td>\n",
       "      <td>12.0</td>\n",
       "      <td>47.0</td>\n",
       "      <td>0.99640</td>\n",
       "      <td>3.19</td>\n",
       "      <td>0.93</td>\n",
       "      <td>9.5</td>\n",
       "      <td>5</td>\n",
       "    </tr>\n",
       "    <tr>\n",
       "      <th>118</th>\n",
       "      <td>8.8</td>\n",
       "      <td>0.550</td>\n",
       "      <td>0.04</td>\n",
       "      <td>2.20</td>\n",
       "      <td>0.119</td>\n",
       "      <td>14.0</td>\n",
       "      <td>56.0</td>\n",
       "      <td>0.99620</td>\n",
       "      <td>3.21</td>\n",
       "      <td>0.60</td>\n",
       "      <td>10.9</td>\n",
       "      <td>6</td>\n",
       "    </tr>\n",
       "    <tr>\n",
       "      <th>121</th>\n",
       "      <td>8.8</td>\n",
       "      <td>0.550</td>\n",
       "      <td>0.04</td>\n",
       "      <td>2.20</td>\n",
       "      <td>0.119</td>\n",
       "      <td>14.0</td>\n",
       "      <td>56.0</td>\n",
       "      <td>0.99620</td>\n",
       "      <td>3.21</td>\n",
       "      <td>0.60</td>\n",
       "      <td>10.9</td>\n",
       "      <td>6</td>\n",
       "    </tr>\n",
       "    <tr>\n",
       "      <th>131</th>\n",
       "      <td>5.6</td>\n",
       "      <td>0.500</td>\n",
       "      <td>0.09</td>\n",
       "      <td>2.30</td>\n",
       "      <td>0.049</td>\n",
       "      <td>17.0</td>\n",
       "      <td>99.0</td>\n",
       "      <td>0.99370</td>\n",
       "      <td>3.63</td>\n",
       "      <td>0.63</td>\n",
       "      <td>13.0</td>\n",
       "      <td>5</td>\n",
       "    </tr>\n",
       "    <tr>\n",
       "      <th>132</th>\n",
       "      <td>5.6</td>\n",
       "      <td>0.500</td>\n",
       "      <td>0.09</td>\n",
       "      <td>2.30</td>\n",
       "      <td>0.049</td>\n",
       "      <td>17.0</td>\n",
       "      <td>99.0</td>\n",
       "      <td>0.99370</td>\n",
       "      <td>3.63</td>\n",
       "      <td>0.63</td>\n",
       "      <td>13.0</td>\n",
       "      <td>5</td>\n",
       "    </tr>\n",
       "    <tr>\n",
       "      <th>135</th>\n",
       "      <td>8.4</td>\n",
       "      <td>0.745</td>\n",
       "      <td>0.11</td>\n",
       "      <td>1.90</td>\n",
       "      <td>0.090</td>\n",
       "      <td>16.0</td>\n",
       "      <td>63.0</td>\n",
       "      <td>0.99650</td>\n",
       "      <td>3.19</td>\n",
       "      <td>0.82</td>\n",
       "      <td>9.6</td>\n",
       "      <td>5</td>\n",
       "    </tr>\n",
       "    <tr>\n",
       "      <th>136</th>\n",
       "      <td>8.3</td>\n",
       "      <td>0.715</td>\n",
       "      <td>0.15</td>\n",
       "      <td>1.80</td>\n",
       "      <td>0.089</td>\n",
       "      <td>10.0</td>\n",
       "      <td>52.0</td>\n",
       "      <td>0.99680</td>\n",
       "      <td>3.23</td>\n",
       "      <td>0.77</td>\n",
       "      <td>9.5</td>\n",
       "      <td>5</td>\n",
       "    </tr>\n",
       "    <tr>\n",
       "      <th>140</th>\n",
       "      <td>8.4</td>\n",
       "      <td>0.745</td>\n",
       "      <td>0.11</td>\n",
       "      <td>1.90</td>\n",
       "      <td>0.090</td>\n",
       "      <td>16.0</td>\n",
       "      <td>63.0</td>\n",
       "      <td>0.99650</td>\n",
       "      <td>3.19</td>\n",
       "      <td>0.82</td>\n",
       "      <td>9.6</td>\n",
       "      <td>5</td>\n",
       "    </tr>\n",
       "    <tr>\n",
       "      <th>141</th>\n",
       "      <td>8.3</td>\n",
       "      <td>0.715</td>\n",
       "      <td>0.15</td>\n",
       "      <td>1.80</td>\n",
       "      <td>0.089</td>\n",
       "      <td>10.0</td>\n",
       "      <td>52.0</td>\n",
       "      <td>0.99680</td>\n",
       "      <td>3.23</td>\n",
       "      <td>0.77</td>\n",
       "      <td>9.5</td>\n",
       "      <td>5</td>\n",
       "    </tr>\n",
       "    <tr>\n",
       "      <th>...</th>\n",
       "      <td>...</td>\n",
       "      <td>...</td>\n",
       "      <td>...</td>\n",
       "      <td>...</td>\n",
       "      <td>...</td>\n",
       "      <td>...</td>\n",
       "      <td>...</td>\n",
       "      <td>...</td>\n",
       "      <td>...</td>\n",
       "      <td>...</td>\n",
       "      <td>...</td>\n",
       "      <td>...</td>\n",
       "    </tr>\n",
       "    <tr>\n",
       "      <th>1468</th>\n",
       "      <td>7.3</td>\n",
       "      <td>0.480</td>\n",
       "      <td>0.32</td>\n",
       "      <td>2.10</td>\n",
       "      <td>0.062</td>\n",
       "      <td>31.0</td>\n",
       "      <td>54.0</td>\n",
       "      <td>0.99728</td>\n",
       "      <td>3.30</td>\n",
       "      <td>0.65</td>\n",
       "      <td>10.0</td>\n",
       "      <td>7</td>\n",
       "    </tr>\n",
       "    <tr>\n",
       "      <th>1474</th>\n",
       "      <td>9.9</td>\n",
       "      <td>0.500</td>\n",
       "      <td>0.50</td>\n",
       "      <td>13.80</td>\n",
       "      <td>0.205</td>\n",
       "      <td>48.0</td>\n",
       "      <td>82.0</td>\n",
       "      <td>1.00242</td>\n",
       "      <td>3.16</td>\n",
       "      <td>0.75</td>\n",
       "      <td>8.8</td>\n",
       "      <td>5</td>\n",
       "    </tr>\n",
       "    <tr>\n",
       "      <th>1476</th>\n",
       "      <td>9.9</td>\n",
       "      <td>0.500</td>\n",
       "      <td>0.50</td>\n",
       "      <td>13.80</td>\n",
       "      <td>0.205</td>\n",
       "      <td>48.0</td>\n",
       "      <td>82.0</td>\n",
       "      <td>1.00242</td>\n",
       "      <td>3.16</td>\n",
       "      <td>0.75</td>\n",
       "      <td>8.8</td>\n",
       "      <td>5</td>\n",
       "    </tr>\n",
       "    <tr>\n",
       "      <th>1479</th>\n",
       "      <td>8.2</td>\n",
       "      <td>0.280</td>\n",
       "      <td>0.60</td>\n",
       "      <td>3.00</td>\n",
       "      <td>0.104</td>\n",
       "      <td>10.0</td>\n",
       "      <td>22.0</td>\n",
       "      <td>0.99828</td>\n",
       "      <td>3.39</td>\n",
       "      <td>0.68</td>\n",
       "      <td>10.6</td>\n",
       "      <td>5</td>\n",
       "    </tr>\n",
       "    <tr>\n",
       "      <th>1481</th>\n",
       "      <td>8.2</td>\n",
       "      <td>0.280</td>\n",
       "      <td>0.60</td>\n",
       "      <td>3.00</td>\n",
       "      <td>0.104</td>\n",
       "      <td>10.0</td>\n",
       "      <td>22.0</td>\n",
       "      <td>0.99828</td>\n",
       "      <td>3.39</td>\n",
       "      <td>0.68</td>\n",
       "      <td>10.6</td>\n",
       "      <td>5</td>\n",
       "    </tr>\n",
       "    <tr>\n",
       "      <th>1488</th>\n",
       "      <td>5.6</td>\n",
       "      <td>0.540</td>\n",
       "      <td>0.04</td>\n",
       "      <td>1.70</td>\n",
       "      <td>0.049</td>\n",
       "      <td>5.0</td>\n",
       "      <td>13.0</td>\n",
       "      <td>0.99420</td>\n",
       "      <td>3.72</td>\n",
       "      <td>0.58</td>\n",
       "      <td>11.4</td>\n",
       "      <td>5</td>\n",
       "    </tr>\n",
       "    <tr>\n",
       "      <th>1491</th>\n",
       "      <td>5.6</td>\n",
       "      <td>0.540</td>\n",
       "      <td>0.04</td>\n",
       "      <td>1.70</td>\n",
       "      <td>0.049</td>\n",
       "      <td>5.0</td>\n",
       "      <td>13.0</td>\n",
       "      <td>0.99420</td>\n",
       "      <td>3.72</td>\n",
       "      <td>0.58</td>\n",
       "      <td>11.4</td>\n",
       "      <td>5</td>\n",
       "    </tr>\n",
       "    <tr>\n",
       "      <th>1493</th>\n",
       "      <td>7.7</td>\n",
       "      <td>0.540</td>\n",
       "      <td>0.26</td>\n",
       "      <td>1.90</td>\n",
       "      <td>0.089</td>\n",
       "      <td>23.0</td>\n",
       "      <td>147.0</td>\n",
       "      <td>0.99636</td>\n",
       "      <td>3.26</td>\n",
       "      <td>0.59</td>\n",
       "      <td>9.7</td>\n",
       "      <td>5</td>\n",
       "    </tr>\n",
       "    <tr>\n",
       "      <th>1496</th>\n",
       "      <td>7.7</td>\n",
       "      <td>0.540</td>\n",
       "      <td>0.26</td>\n",
       "      <td>1.90</td>\n",
       "      <td>0.089</td>\n",
       "      <td>23.0</td>\n",
       "      <td>147.0</td>\n",
       "      <td>0.99636</td>\n",
       "      <td>3.26</td>\n",
       "      <td>0.59</td>\n",
       "      <td>9.7</td>\n",
       "      <td>5</td>\n",
       "    </tr>\n",
       "    <tr>\n",
       "      <th>1497</th>\n",
       "      <td>6.9</td>\n",
       "      <td>0.740</td>\n",
       "      <td>0.03</td>\n",
       "      <td>2.30</td>\n",
       "      <td>0.054</td>\n",
       "      <td>7.0</td>\n",
       "      <td>16.0</td>\n",
       "      <td>0.99508</td>\n",
       "      <td>3.45</td>\n",
       "      <td>0.63</td>\n",
       "      <td>11.5</td>\n",
       "      <td>6</td>\n",
       "    </tr>\n",
       "    <tr>\n",
       "      <th>1499</th>\n",
       "      <td>6.9</td>\n",
       "      <td>0.740</td>\n",
       "      <td>0.03</td>\n",
       "      <td>2.30</td>\n",
       "      <td>0.054</td>\n",
       "      <td>7.0</td>\n",
       "      <td>16.0</td>\n",
       "      <td>0.99508</td>\n",
       "      <td>3.45</td>\n",
       "      <td>0.63</td>\n",
       "      <td>11.5</td>\n",
       "      <td>6</td>\n",
       "    </tr>\n",
       "    <tr>\n",
       "      <th>1504</th>\n",
       "      <td>7.5</td>\n",
       "      <td>0.380</td>\n",
       "      <td>0.57</td>\n",
       "      <td>2.30</td>\n",
       "      <td>0.106</td>\n",
       "      <td>5.0</td>\n",
       "      <td>12.0</td>\n",
       "      <td>0.99605</td>\n",
       "      <td>3.36</td>\n",
       "      <td>0.55</td>\n",
       "      <td>11.4</td>\n",
       "      <td>6</td>\n",
       "    </tr>\n",
       "    <tr>\n",
       "      <th>1507</th>\n",
       "      <td>7.5</td>\n",
       "      <td>0.380</td>\n",
       "      <td>0.57</td>\n",
       "      <td>2.30</td>\n",
       "      <td>0.106</td>\n",
       "      <td>5.0</td>\n",
       "      <td>12.0</td>\n",
       "      <td>0.99605</td>\n",
       "      <td>3.36</td>\n",
       "      <td>0.55</td>\n",
       "      <td>11.4</td>\n",
       "      <td>6</td>\n",
       "    </tr>\n",
       "    <tr>\n",
       "      <th>1516</th>\n",
       "      <td>6.1</td>\n",
       "      <td>0.320</td>\n",
       "      <td>0.25</td>\n",
       "      <td>2.30</td>\n",
       "      <td>0.071</td>\n",
       "      <td>23.0</td>\n",
       "      <td>58.0</td>\n",
       "      <td>0.99633</td>\n",
       "      <td>3.42</td>\n",
       "      <td>0.97</td>\n",
       "      <td>10.6</td>\n",
       "      <td>5</td>\n",
       "    </tr>\n",
       "    <tr>\n",
       "      <th>1517</th>\n",
       "      <td>6.5</td>\n",
       "      <td>0.530</td>\n",
       "      <td>0.06</td>\n",
       "      <td>2.00</td>\n",
       "      <td>0.063</td>\n",
       "      <td>29.0</td>\n",
       "      <td>44.0</td>\n",
       "      <td>0.99489</td>\n",
       "      <td>3.38</td>\n",
       "      <td>0.83</td>\n",
       "      <td>10.3</td>\n",
       "      <td>6</td>\n",
       "    </tr>\n",
       "    <tr>\n",
       "      <th>1520</th>\n",
       "      <td>6.5</td>\n",
       "      <td>0.530</td>\n",
       "      <td>0.06</td>\n",
       "      <td>2.00</td>\n",
       "      <td>0.063</td>\n",
       "      <td>29.0</td>\n",
       "      <td>44.0</td>\n",
       "      <td>0.99489</td>\n",
       "      <td>3.38</td>\n",
       "      <td>0.83</td>\n",
       "      <td>10.3</td>\n",
       "      <td>6</td>\n",
       "    </tr>\n",
       "    <tr>\n",
       "      <th>1522</th>\n",
       "      <td>6.1</td>\n",
       "      <td>0.320</td>\n",
       "      <td>0.25</td>\n",
       "      <td>2.30</td>\n",
       "      <td>0.071</td>\n",
       "      <td>23.0</td>\n",
       "      <td>58.0</td>\n",
       "      <td>0.99633</td>\n",
       "      <td>3.42</td>\n",
       "      <td>0.97</td>\n",
       "      <td>10.6</td>\n",
       "      <td>5</td>\n",
       "    </tr>\n",
       "    <tr>\n",
       "      <th>1554</th>\n",
       "      <td>6.6</td>\n",
       "      <td>0.855</td>\n",
       "      <td>0.02</td>\n",
       "      <td>2.40</td>\n",
       "      <td>0.062</td>\n",
       "      <td>15.0</td>\n",
       "      <td>23.0</td>\n",
       "      <td>0.99627</td>\n",
       "      <td>3.54</td>\n",
       "      <td>0.60</td>\n",
       "      <td>11.0</td>\n",
       "      <td>6</td>\n",
       "    </tr>\n",
       "    <tr>\n",
       "      <th>1557</th>\n",
       "      <td>6.6</td>\n",
       "      <td>0.855</td>\n",
       "      <td>0.02</td>\n",
       "      <td>2.40</td>\n",
       "      <td>0.062</td>\n",
       "      <td>15.0</td>\n",
       "      <td>23.0</td>\n",
       "      <td>0.99627</td>\n",
       "      <td>3.54</td>\n",
       "      <td>0.60</td>\n",
       "      <td>11.0</td>\n",
       "      <td>6</td>\n",
       "    </tr>\n",
       "    <tr>\n",
       "      <th>1559</th>\n",
       "      <td>7.8</td>\n",
       "      <td>0.600</td>\n",
       "      <td>0.26</td>\n",
       "      <td>2.00</td>\n",
       "      <td>0.080</td>\n",
       "      <td>31.0</td>\n",
       "      <td>131.0</td>\n",
       "      <td>0.99622</td>\n",
       "      <td>3.21</td>\n",
       "      <td>0.52</td>\n",
       "      <td>9.9</td>\n",
       "      <td>5</td>\n",
       "    </tr>\n",
       "    <tr>\n",
       "      <th>1560</th>\n",
       "      <td>7.8</td>\n",
       "      <td>0.600</td>\n",
       "      <td>0.26</td>\n",
       "      <td>2.00</td>\n",
       "      <td>0.080</td>\n",
       "      <td>31.0</td>\n",
       "      <td>131.0</td>\n",
       "      <td>0.99622</td>\n",
       "      <td>3.21</td>\n",
       "      <td>0.52</td>\n",
       "      <td>9.9</td>\n",
       "      <td>5</td>\n",
       "    </tr>\n",
       "    <tr>\n",
       "      <th>1561</th>\n",
       "      <td>7.8</td>\n",
       "      <td>0.600</td>\n",
       "      <td>0.26</td>\n",
       "      <td>2.00</td>\n",
       "      <td>0.080</td>\n",
       "      <td>31.0</td>\n",
       "      <td>131.0</td>\n",
       "      <td>0.99622</td>\n",
       "      <td>3.21</td>\n",
       "      <td>0.52</td>\n",
       "      <td>9.9</td>\n",
       "      <td>5</td>\n",
       "    </tr>\n",
       "    <tr>\n",
       "      <th>1562</th>\n",
       "      <td>7.2</td>\n",
       "      <td>0.695</td>\n",
       "      <td>0.13</td>\n",
       "      <td>2.00</td>\n",
       "      <td>0.076</td>\n",
       "      <td>12.0</td>\n",
       "      <td>20.0</td>\n",
       "      <td>0.99546</td>\n",
       "      <td>3.29</td>\n",
       "      <td>0.54</td>\n",
       "      <td>10.1</td>\n",
       "      <td>5</td>\n",
       "    </tr>\n",
       "    <tr>\n",
       "      <th>1563</th>\n",
       "      <td>7.2</td>\n",
       "      <td>0.695</td>\n",
       "      <td>0.13</td>\n",
       "      <td>2.00</td>\n",
       "      <td>0.076</td>\n",
       "      <td>12.0</td>\n",
       "      <td>20.0</td>\n",
       "      <td>0.99546</td>\n",
       "      <td>3.29</td>\n",
       "      <td>0.54</td>\n",
       "      <td>10.1</td>\n",
       "      <td>5</td>\n",
       "    </tr>\n",
       "    <tr>\n",
       "      <th>1564</th>\n",
       "      <td>7.2</td>\n",
       "      <td>0.695</td>\n",
       "      <td>0.13</td>\n",
       "      <td>2.00</td>\n",
       "      <td>0.076</td>\n",
       "      <td>12.0</td>\n",
       "      <td>20.0</td>\n",
       "      <td>0.99546</td>\n",
       "      <td>3.29</td>\n",
       "      <td>0.54</td>\n",
       "      <td>10.1</td>\n",
       "      <td>5</td>\n",
       "    </tr>\n",
       "    <tr>\n",
       "      <th>1567</th>\n",
       "      <td>7.2</td>\n",
       "      <td>0.695</td>\n",
       "      <td>0.13</td>\n",
       "      <td>2.00</td>\n",
       "      <td>0.076</td>\n",
       "      <td>12.0</td>\n",
       "      <td>20.0</td>\n",
       "      <td>0.99546</td>\n",
       "      <td>3.29</td>\n",
       "      <td>0.54</td>\n",
       "      <td>10.1</td>\n",
       "      <td>5</td>\n",
       "    </tr>\n",
       "    <tr>\n",
       "      <th>1579</th>\n",
       "      <td>6.2</td>\n",
       "      <td>0.560</td>\n",
       "      <td>0.09</td>\n",
       "      <td>1.70</td>\n",
       "      <td>0.053</td>\n",
       "      <td>24.0</td>\n",
       "      <td>32.0</td>\n",
       "      <td>0.99402</td>\n",
       "      <td>3.54</td>\n",
       "      <td>0.60</td>\n",
       "      <td>11.3</td>\n",
       "      <td>5</td>\n",
       "    </tr>\n",
       "    <tr>\n",
       "      <th>1581</th>\n",
       "      <td>6.2</td>\n",
       "      <td>0.560</td>\n",
       "      <td>0.09</td>\n",
       "      <td>1.70</td>\n",
       "      <td>0.053</td>\n",
       "      <td>24.0</td>\n",
       "      <td>32.0</td>\n",
       "      <td>0.99402</td>\n",
       "      <td>3.54</td>\n",
       "      <td>0.60</td>\n",
       "      <td>11.3</td>\n",
       "      <td>5</td>\n",
       "    </tr>\n",
       "    <tr>\n",
       "      <th>1592</th>\n",
       "      <td>6.3</td>\n",
       "      <td>0.510</td>\n",
       "      <td>0.13</td>\n",
       "      <td>2.30</td>\n",
       "      <td>0.076</td>\n",
       "      <td>29.0</td>\n",
       "      <td>40.0</td>\n",
       "      <td>0.99574</td>\n",
       "      <td>3.42</td>\n",
       "      <td>0.75</td>\n",
       "      <td>11.0</td>\n",
       "      <td>6</td>\n",
       "    </tr>\n",
       "    <tr>\n",
       "      <th>1596</th>\n",
       "      <td>6.3</td>\n",
       "      <td>0.510</td>\n",
       "      <td>0.13</td>\n",
       "      <td>2.30</td>\n",
       "      <td>0.076</td>\n",
       "      <td>29.0</td>\n",
       "      <td>40.0</td>\n",
       "      <td>0.99574</td>\n",
       "      <td>3.42</td>\n",
       "      <td>0.75</td>\n",
       "      <td>11.0</td>\n",
       "      <td>6</td>\n",
       "    </tr>\n",
       "  </tbody>\n",
       "</table>\n",
       "<p>460 rows × 12 columns</p>\n",
       "</div>"
      ],
      "text/plain": [
       "      fixed acidity  volatile acidity  citric acid  residual sugar  chlorides  \\\n",
       "0               7.4             0.700         0.00            1.90      0.076   \n",
       "4               7.4             0.700         0.00            1.90      0.076   \n",
       "9               7.5             0.500         0.36            6.10      0.071   \n",
       "11              7.5             0.500         0.36            6.10      0.071   \n",
       "22              7.9             0.430         0.21            1.60      0.106   \n",
       "27              7.9             0.430         0.21            1.60      0.106   \n",
       "39              7.3             0.450         0.36            5.90      0.074   \n",
       "40              7.3             0.450         0.36            5.90      0.074   \n",
       "64              7.2             0.725         0.05            4.65      0.086   \n",
       "65              7.2             0.725         0.05            4.65      0.086   \n",
       "75              8.8             0.410         0.64            2.20      0.093   \n",
       "76              8.8             0.410         0.64            2.20      0.093   \n",
       "86              8.6             0.490         0.28            1.90      0.110   \n",
       "87              7.7             0.490         0.26            1.90      0.062   \n",
       "91              8.6             0.490         0.28            1.90      0.110   \n",
       "93              7.7             0.490         0.26            1.90      0.062   \n",
       "99              8.1             0.545         0.18            1.90      0.080   \n",
       "102             8.1             0.545         0.18            1.90      0.080   \n",
       "103             8.1             0.575         0.22            2.10      0.077   \n",
       "105             8.1             0.575         0.22            2.10      0.077   \n",
       "110             7.8             0.560         0.19            1.80      0.104   \n",
       "114             7.8             0.560         0.19            1.80      0.104   \n",
       "118             8.8             0.550         0.04            2.20      0.119   \n",
       "121             8.8             0.550         0.04            2.20      0.119   \n",
       "131             5.6             0.500         0.09            2.30      0.049   \n",
       "132             5.6             0.500         0.09            2.30      0.049   \n",
       "135             8.4             0.745         0.11            1.90      0.090   \n",
       "136             8.3             0.715         0.15            1.80      0.089   \n",
       "140             8.4             0.745         0.11            1.90      0.090   \n",
       "141             8.3             0.715         0.15            1.80      0.089   \n",
       "...             ...               ...          ...             ...        ...   \n",
       "1468            7.3             0.480         0.32            2.10      0.062   \n",
       "1474            9.9             0.500         0.50           13.80      0.205   \n",
       "1476            9.9             0.500         0.50           13.80      0.205   \n",
       "1479            8.2             0.280         0.60            3.00      0.104   \n",
       "1481            8.2             0.280         0.60            3.00      0.104   \n",
       "1488            5.6             0.540         0.04            1.70      0.049   \n",
       "1491            5.6             0.540         0.04            1.70      0.049   \n",
       "1493            7.7             0.540         0.26            1.90      0.089   \n",
       "1496            7.7             0.540         0.26            1.90      0.089   \n",
       "1497            6.9             0.740         0.03            2.30      0.054   \n",
       "1499            6.9             0.740         0.03            2.30      0.054   \n",
       "1504            7.5             0.380         0.57            2.30      0.106   \n",
       "1507            7.5             0.380         0.57            2.30      0.106   \n",
       "1516            6.1             0.320         0.25            2.30      0.071   \n",
       "1517            6.5             0.530         0.06            2.00      0.063   \n",
       "1520            6.5             0.530         0.06            2.00      0.063   \n",
       "1522            6.1             0.320         0.25            2.30      0.071   \n",
       "1554            6.6             0.855         0.02            2.40      0.062   \n",
       "1557            6.6             0.855         0.02            2.40      0.062   \n",
       "1559            7.8             0.600         0.26            2.00      0.080   \n",
       "1560            7.8             0.600         0.26            2.00      0.080   \n",
       "1561            7.8             0.600         0.26            2.00      0.080   \n",
       "1562            7.2             0.695         0.13            2.00      0.076   \n",
       "1563            7.2             0.695         0.13            2.00      0.076   \n",
       "1564            7.2             0.695         0.13            2.00      0.076   \n",
       "1567            7.2             0.695         0.13            2.00      0.076   \n",
       "1579            6.2             0.560         0.09            1.70      0.053   \n",
       "1581            6.2             0.560         0.09            1.70      0.053   \n",
       "1592            6.3             0.510         0.13            2.30      0.076   \n",
       "1596            6.3             0.510         0.13            2.30      0.076   \n",
       "\n",
       "      free sulfur dioxide  total sulfur dioxide  density    pH  sulphates  \\\n",
       "0                    11.0                  34.0  0.99780  3.51       0.56   \n",
       "4                    11.0                  34.0  0.99780  3.51       0.56   \n",
       "9                    17.0                 102.0  0.99780  3.35       0.80   \n",
       "11                   17.0                 102.0  0.99780  3.35       0.80   \n",
       "22                   10.0                  37.0  0.99660  3.17       0.91   \n",
       "27                   10.0                  37.0  0.99660  3.17       0.91   \n",
       "39                   12.0                  87.0  0.99780  3.33       0.83   \n",
       "40                   12.0                  87.0  0.99780  3.33       0.83   \n",
       "64                    4.0                  11.0  0.99620  3.41       0.39   \n",
       "65                    4.0                  11.0  0.99620  3.41       0.39   \n",
       "75                    9.0                  42.0  0.99860  3.54       0.66   \n",
       "76                    9.0                  42.0  0.99860  3.54       0.66   \n",
       "86                   20.0                 136.0  0.99720  2.93       1.95   \n",
       "87                    9.0                  31.0  0.99660  3.39       0.64   \n",
       "91                   20.0                 136.0  0.99720  2.93       1.95   \n",
       "93                    9.0                  31.0  0.99660  3.39       0.64   \n",
       "99                   13.0                  35.0  0.99720  3.30       0.59   \n",
       "102                  13.0                  35.0  0.99720  3.30       0.59   \n",
       "103                  12.0                  65.0  0.99670  3.29       0.51   \n",
       "105                  12.0                  65.0  0.99670  3.29       0.51   \n",
       "110                  12.0                  47.0  0.99640  3.19       0.93   \n",
       "114                  12.0                  47.0  0.99640  3.19       0.93   \n",
       "118                  14.0                  56.0  0.99620  3.21       0.60   \n",
       "121                  14.0                  56.0  0.99620  3.21       0.60   \n",
       "131                  17.0                  99.0  0.99370  3.63       0.63   \n",
       "132                  17.0                  99.0  0.99370  3.63       0.63   \n",
       "135                  16.0                  63.0  0.99650  3.19       0.82   \n",
       "136                  10.0                  52.0  0.99680  3.23       0.77   \n",
       "140                  16.0                  63.0  0.99650  3.19       0.82   \n",
       "141                  10.0                  52.0  0.99680  3.23       0.77   \n",
       "...                   ...                   ...      ...   ...        ...   \n",
       "1468                 31.0                  54.0  0.99728  3.30       0.65   \n",
       "1474                 48.0                  82.0  1.00242  3.16       0.75   \n",
       "1476                 48.0                  82.0  1.00242  3.16       0.75   \n",
       "1479                 10.0                  22.0  0.99828  3.39       0.68   \n",
       "1481                 10.0                  22.0  0.99828  3.39       0.68   \n",
       "1488                  5.0                  13.0  0.99420  3.72       0.58   \n",
       "1491                  5.0                  13.0  0.99420  3.72       0.58   \n",
       "1493                 23.0                 147.0  0.99636  3.26       0.59   \n",
       "1496                 23.0                 147.0  0.99636  3.26       0.59   \n",
       "1497                  7.0                  16.0  0.99508  3.45       0.63   \n",
       "1499                  7.0                  16.0  0.99508  3.45       0.63   \n",
       "1504                  5.0                  12.0  0.99605  3.36       0.55   \n",
       "1507                  5.0                  12.0  0.99605  3.36       0.55   \n",
       "1516                 23.0                  58.0  0.99633  3.42       0.97   \n",
       "1517                 29.0                  44.0  0.99489  3.38       0.83   \n",
       "1520                 29.0                  44.0  0.99489  3.38       0.83   \n",
       "1522                 23.0                  58.0  0.99633  3.42       0.97   \n",
       "1554                 15.0                  23.0  0.99627  3.54       0.60   \n",
       "1557                 15.0                  23.0  0.99627  3.54       0.60   \n",
       "1559                 31.0                 131.0  0.99622  3.21       0.52   \n",
       "1560                 31.0                 131.0  0.99622  3.21       0.52   \n",
       "1561                 31.0                 131.0  0.99622  3.21       0.52   \n",
       "1562                 12.0                  20.0  0.99546  3.29       0.54   \n",
       "1563                 12.0                  20.0  0.99546  3.29       0.54   \n",
       "1564                 12.0                  20.0  0.99546  3.29       0.54   \n",
       "1567                 12.0                  20.0  0.99546  3.29       0.54   \n",
       "1579                 24.0                  32.0  0.99402  3.54       0.60   \n",
       "1581                 24.0                  32.0  0.99402  3.54       0.60   \n",
       "1592                 29.0                  40.0  0.99574  3.42       0.75   \n",
       "1596                 29.0                  40.0  0.99574  3.42       0.75   \n",
       "\n",
       "      alcohol  quality  \n",
       "0         9.4        5  \n",
       "4         9.4        5  \n",
       "9        10.5        5  \n",
       "11       10.5        5  \n",
       "22        9.5        5  \n",
       "27        9.5        5  \n",
       "39       10.5        5  \n",
       "40       10.5        5  \n",
       "64       10.9        5  \n",
       "65       10.9        5  \n",
       "75       10.5        5  \n",
       "76       10.5        5  \n",
       "86        9.9        6  \n",
       "87        9.6        5  \n",
       "91        9.9        6  \n",
       "93        9.6        5  \n",
       "99        9.0        6  \n",
       "102       9.0        6  \n",
       "103       9.2        5  \n",
       "105       9.2        5  \n",
       "110       9.5        5  \n",
       "114       9.5        5  \n",
       "118      10.9        6  \n",
       "121      10.9        6  \n",
       "131      13.0        5  \n",
       "132      13.0        5  \n",
       "135       9.6        5  \n",
       "136       9.5        5  \n",
       "140       9.6        5  \n",
       "141       9.5        5  \n",
       "...       ...      ...  \n",
       "1468     10.0        7  \n",
       "1474      8.8        5  \n",
       "1476      8.8        5  \n",
       "1479     10.6        5  \n",
       "1481     10.6        5  \n",
       "1488     11.4        5  \n",
       "1491     11.4        5  \n",
       "1493      9.7        5  \n",
       "1496      9.7        5  \n",
       "1497     11.5        6  \n",
       "1499     11.5        6  \n",
       "1504     11.4        6  \n",
       "1507     11.4        6  \n",
       "1516     10.6        5  \n",
       "1517     10.3        6  \n",
       "1520     10.3        6  \n",
       "1522     10.6        5  \n",
       "1554     11.0        6  \n",
       "1557     11.0        6  \n",
       "1559      9.9        5  \n",
       "1560      9.9        5  \n",
       "1561      9.9        5  \n",
       "1562     10.1        5  \n",
       "1563     10.1        5  \n",
       "1564     10.1        5  \n",
       "1567     10.1        5  \n",
       "1579     11.3        5  \n",
       "1581     11.3        5  \n",
       "1592     11.0        6  \n",
       "1596     11.0        6  \n",
       "\n",
       "[460 rows x 12 columns]"
      ]
     },
     "execution_count": 19,
     "metadata": {},
     "output_type": "execute_result"
    }
   ],
   "source": [
    "data[data.duplicated(keep=False)]"
   ]
  },
  {
   "cell_type": "code",
   "execution_count": 20,
   "metadata": {
    "ExecuteTime": {
     "end_time": "2020-11-27T13:35:35.331636Z",
     "start_time": "2020-11-27T13:35:35.302638Z"
    }
   },
   "outputs": [
    {
     "data": {
      "text/html": [
       "<div>\n",
       "<style scoped>\n",
       "    .dataframe tbody tr th:only-of-type {\n",
       "        vertical-align: middle;\n",
       "    }\n",
       "\n",
       "    .dataframe tbody tr th {\n",
       "        vertical-align: top;\n",
       "    }\n",
       "\n",
       "    .dataframe thead th {\n",
       "        text-align: right;\n",
       "    }\n",
       "</style>\n",
       "<table border=\"1\" class=\"dataframe\">\n",
       "  <thead>\n",
       "    <tr style=\"text-align: right;\">\n",
       "      <th></th>\n",
       "      <th>variance</th>\n",
       "    </tr>\n",
       "  </thead>\n",
       "  <tbody>\n",
       "    <tr>\n",
       "      <th>fixed acidity</th>\n",
       "      <td>3.031416</td>\n",
       "    </tr>\n",
       "    <tr>\n",
       "      <th>volatile acidity</th>\n",
       "      <td>0.032062</td>\n",
       "    </tr>\n",
       "    <tr>\n",
       "      <th>citric acid</th>\n",
       "      <td>0.037947</td>\n",
       "    </tr>\n",
       "    <tr>\n",
       "      <th>residual sugar</th>\n",
       "      <td>1.987897</td>\n",
       "    </tr>\n",
       "    <tr>\n",
       "      <th>chlorides</th>\n",
       "      <td>0.002215</td>\n",
       "    </tr>\n",
       "    <tr>\n",
       "      <th>free sulfur dioxide</th>\n",
       "      <td>109.414884</td>\n",
       "    </tr>\n",
       "    <tr>\n",
       "      <th>total sulfur dioxide</th>\n",
       "      <td>1082.102373</td>\n",
       "    </tr>\n",
       "    <tr>\n",
       "      <th>density</th>\n",
       "      <td>0.000004</td>\n",
       "    </tr>\n",
       "    <tr>\n",
       "      <th>pH</th>\n",
       "      <td>0.023835</td>\n",
       "    </tr>\n",
       "    <tr>\n",
       "      <th>sulphates</th>\n",
       "      <td>0.028733</td>\n",
       "    </tr>\n",
       "    <tr>\n",
       "      <th>alcohol</th>\n",
       "      <td>1.135647</td>\n",
       "    </tr>\n",
       "    <tr>\n",
       "      <th>quality</th>\n",
       "      <td>0.652168</td>\n",
       "    </tr>\n",
       "  </tbody>\n",
       "</table>\n",
       "</div>"
      ],
      "text/plain": [
       "                         variance\n",
       "fixed acidity            3.031416\n",
       "volatile acidity         0.032062\n",
       "citric acid              0.037947\n",
       "residual sugar           1.987897\n",
       "chlorides                0.002215\n",
       "free sulfur dioxide    109.414884\n",
       "total sulfur dioxide  1082.102373\n",
       "density                  0.000004\n",
       "pH                       0.023835\n",
       "sulphates                0.028733\n",
       "alcohol                  1.135647\n",
       "quality                  0.652168"
      ]
     },
     "execution_count": 20,
     "metadata": {},
     "output_type": "execute_result"
    }
   ],
   "source": [
    "pd.DataFrame({'variance': data.var()}, index=data.columns)"
   ]
  },
  {
   "cell_type": "markdown",
   "metadata": {},
   "source": [
    "## For the processing, \n",
    "- There are 240 duplicate rows in the dataset, we would need to drop them\n",
    "- Since the the majority of the features have a lot of outliers scaling might be needed \n",
    "- Due to the multi-colinearity present we need to generate new features and drop some\n",
    "- total and free sulphur dioxide have very high variance\n",
    "- No obvious relationship between listed wine properties and their quality value\n",
    "- Slight inverse relationship with quality: volatile acidity, *Minor: total suplhur dioxide, density.\n",
    "- Slight direct relationship with quality: alcholol, *Minor: sulphates, citric acid.\n",
    "- most obvious relationship: alcohol(direct)\n",
    "- Classes are indeed ordered but unbalanced\n",
    "- greater than 75 percent of the tested samples had a quality value of 6 or less which is less than 6.5\n",
    "- No missing or Nan Values\n",
    "- All the columns contain only numerical data types\n",
    "- No negative values was present in any column"
   ]
  },
  {
   "cell_type": "code",
   "execution_count": 24,
   "metadata": {
    "ExecuteTime": {
     "end_time": "2021-01-13T12:34:11.504282Z",
     "start_time": "2021-01-13T12:34:11.448281Z"
    }
   },
   "outputs": [],
   "source": [
    "# dropping duplicated rows\n",
    "\n",
    "data.drop_duplicates(inplace=True)"
   ]
  },
  {
   "cell_type": "code",
   "execution_count": 25,
   "metadata": {
    "ExecuteTime": {
     "end_time": "2021-01-13T12:34:12.797046Z",
     "start_time": "2021-01-13T12:34:12.749053Z"
    }
   },
   "outputs": [
    {
     "name": "stdout",
     "output_type": "stream",
     "text": [
      "<class 'pandas.core.frame.DataFrame'>\n",
      "Int64Index: 1359 entries, 0 to 1598\n",
      "Data columns (total 14 columns):\n",
      "fixed acidity           1359 non-null float64\n",
      "volatile acidity        1359 non-null float64\n",
      "citric acid             1359 non-null float64\n",
      "residual sugar          1359 non-null float64\n",
      "chlorides               1359 non-null float64\n",
      "free sulfur dioxide     1359 non-null float64\n",
      "total sulfur dioxide    1359 non-null float64\n",
      "density                 1359 non-null float64\n",
      "pH                      1359 non-null float64\n",
      "sulphates               1359 non-null float64\n",
      "alcohol                 1359 non-null float64\n",
      "quality                 1359 non-null int64\n",
      "quality1                1359 non-null int64\n",
      "quality2                1359 non-null int64\n",
      "dtypes: float64(11), int64(3)\n",
      "memory usage: 159.3 KB\n"
     ]
    }
   ],
   "source": [
    "data.info()"
   ]
  },
  {
   "cell_type": "markdown",
   "metadata": {},
   "source": [
    "## Feature Selection and Engineering"
   ]
  },
  {
   "cell_type": "code",
   "execution_count": 26,
   "metadata": {
    "ExecuteTime": {
     "end_time": "2021-01-13T12:34:26.008452Z",
     "start_time": "2021-01-13T12:34:25.984404Z"
    }
   },
   "outputs": [],
   "source": [
    "# drop useless features\n",
    "\n",
    "#data['bound sulfur dioxide'] = data['total sulfur dioxide'] - data['free sulfur dioxide']\n",
    "#data['other acid'] = data['fixed acidity'] - data['citric acid']\n",
    "#data['new1'] = data['alcohol'] * data['pH']\n",
    "#data['new2'] = data['alcohol'] * data['density']\n",
    "#data['new3'] = data['alcohol'] * data['free sulfur dioxide']\n",
    "\n",
    "# drop some features\n",
    "#data.drop(['pH', 'citric acid', 'density', 'free sulfur dioxide'], axis=1, inplace=True)"
   ]
  },
  {
   "cell_type": "markdown",
   "metadata": {},
   "source": [
    "## Feature Extraction - Dimensionality Reduction"
   ]
  },
  {
   "cell_type": "code",
   "execution_count": 27,
   "metadata": {
    "ExecuteTime": {
     "end_time": "2021-01-13T12:37:16.277041Z",
     "start_time": "2021-01-13T12:37:13.613962Z"
    },
    "scrolled": false
   },
   "outputs": [
    {
     "data": {
      "text/plain": [
       "Text(0, 0.5, 'Second Principle Component')"
      ]
     },
     "execution_count": 27,
     "metadata": {},
     "output_type": "execute_result"
    },
    {
     "data": {
      "image/png": "[encoded data removed]",
      "text/plain": [
       "<Figure size 720x576 with 1 Axes>"
      ]
     },
     "metadata": {
      "needs_background": "light"
     },
     "output_type": "display_data"
    }
   ],
   "source": [
    "from sklearn.decomposition import PCA\n",
    "\n",
    "pca = PCA(random_state=10, n_components=2)\n",
    "x_pca = data.drop(['quality', 'quality1', 'quality2'], axis=1).copy()\n",
    "x_pca = pca.fit_transform(x_pca)\n",
    "\n",
    "# visualizing our data\n",
    "\n",
    "plt.figure(figsize=(10, 8))\n",
    "plt.scatter(x_pca[:, 0], x_pca[:, 1], c=data['quality'])\n",
    "plt.xlabel('First Principle Component')\n",
    "plt.ylabel('Second Principle Component')"
   ]
  },
  {
   "cell_type": "code",
   "execution_count": 28,
   "metadata": {
    "ExecuteTime": {
     "end_time": "2021-01-13T12:37:20.273760Z",
     "start_time": "2021-01-13T12:37:20.249738Z"
    }
   },
   "outputs": [
    {
     "data": {
      "text/plain": [
       "array([0.9481314 , 0.04704536])"
      ]
     },
     "execution_count": 28,
     "metadata": {},
     "output_type": "execute_result"
    }
   ],
   "source": [
    "# determining the best number of components\n",
    "\n",
    "pca.explained_variance_ratio_"
   ]
  },
  {
   "cell_type": "markdown",
   "metadata": {},
   "source": [
    "## Binning the features"
   ]
  },
  {
   "cell_type": "code",
   "execution_count": 29,
   "metadata": {
    "ExecuteTime": {
     "end_time": "2021-01-13T12:38:52.251020Z",
     "start_time": "2021-01-13T12:38:52.144409Z"
    }
   },
   "outputs": [],
   "source": [
    "# Binning 5 features\n",
    "\n",
    "def alcohol(x):\n",
    "    if x <=9.0:\n",
    "        return 1.0\n",
    "    elif x > 9.0 and x <= 10.0:\n",
    "        return 2\n",
    "    elif x > 10.0 and x <= 11.0:\n",
    "        return 3.0\n",
    "    elif x > 11.0 and x <= 12.0:\n",
    "        return 4.0\n",
    "    elif x > 12.0 and x <= 13.0:\n",
    "        return 5.0\n",
    "    elif x > 13.0:\n",
    "        return 6.0\n",
    "\n",
    "def chlorides(x):\n",
    "    if x <= 0.1:\n",
    "        return 1.0\n",
    "    elif x > 0.1 and x <= 0.2:\n",
    "        return 2\n",
    "    elif x > 0.2 and x <= 0.3:\n",
    "        return 3.0\n",
    "    elif x > 0.3 and x <= 0.4:\n",
    "        return 4.0\n",
    "    elif x > 0.4 and x <= 0.5:\n",
    "        return 5.0\n",
    "    elif x > 0.5:\n",
    "        return 6.0\n",
    "    \n",
    "def fixed_acidity(x):\n",
    "    if x <=6.0:\n",
    "        return 1.0\n",
    "    elif x > 6.0 and x <= 8.0:\n",
    "        return 2\n",
    "    elif x > 8.0 and x <= 10.0:\n",
    "        return 3.0\n",
    "    elif x > 10.0 and x <= 12.0:\n",
    "        return 4.0\n",
    "    elif x > 12.0 and x <= 14.0:\n",
    "        return 5.0\n",
    "    elif x > 14.0:\n",
    "        return 6.0\n",
    "    \n",
    "def total_sulfur_dioxide(x):\n",
    "    if x <=50.0:\n",
    "        return 1.0\n",
    "    elif x > 50.0 and x <= 100.0:\n",
    "        return 2\n",
    "    elif x > 100.0 and x <= 150.0:\n",
    "        return 3.0\n",
    "    elif x > 150.0 and x <= 200.0:\n",
    "        return 4.0\n",
    "    elif x > 200.0 and x <= 250.0:\n",
    "        return 5.0\n",
    "    elif x > 250.0:\n",
    "        return 6.0\n",
    "\n",
    "def volatile_acidity(x):\n",
    "    if x <= 0.25:\n",
    "        return 1.0\n",
    "    elif x > 0.25 and x <= 0.50:\n",
    "        return 2\n",
    "    elif x > 0.50 and x <= 0.75:\n",
    "        return 3.0\n",
    "    elif x > 0.75 and x <= 1.0:\n",
    "        return 4.0\n",
    "    elif x > 1.0 and x <= 1.25:\n",
    "        return 5.0\n",
    "    elif x > 1.25:\n",
    "        return 6.0\n",
    "\n",
    "def citric_acid(x):\n",
    "    if x <=0.2:\n",
    "        return 1.0\n",
    "    elif x > 0.2 and x <= 0.4:\n",
    "        return 2\n",
    "    elif x > 0.4 and x <= 0.6:\n",
    "        return 3.0\n",
    "    elif x > 0.6 and x <= 0.8:\n",
    "        return 4.0\n",
    "    elif x > 0.8 :\n",
    "        return 5.0\n",
    "\n",
    "data['alcohol'] = data['alcohol'].apply(alcohol)\n",
    "#data['citric acid'] = data['citric acid'].apply(citric_acid)\n",
    "#data['fixed acidity'] = data['fixed acidity'].apply(fixed_acidity)\n",
    "#data['chlorides'] = data[chlorides].apply(chlorides)\n",
    "#data['volatile acidity'] = data['volatile acidity'].apply(volatile_acidity)\n",
    "#data['total sulfur dioxide'] = data['total sulfur dioxide'].apply(total_sulfur_dioxide)\n",
    "#data['residual sugar'] = data['residual sugar'].apply(residual_sugar)"
   ]
  },
  {
   "cell_type": "markdown",
   "metadata": {
    "ExecuteTime": {
     "end_time": "2020-11-26T22:30:23.109861Z",
     "start_time": "2020-11-26T22:30:23.097859Z"
    }
   },
   "source": [
    "## Spliting our dataset"
   ]
  },
  {
   "cell_type": "code",
   "execution_count": 45,
   "metadata": {
    "ExecuteTime": {
     "end_time": "2021-01-13T12:58:18.887302Z",
     "start_time": "2021-01-13T12:58:18.839322Z"
    },
    "scrolled": true
   },
   "outputs": [
    {
     "name": "stdout",
     "output_type": "stream",
     "text": [
      "(1359, 11) (1359,) (1359,) (1359,)\n"
     ]
    }
   ],
   "source": [
    "X = data.drop(['quality', 'quality1', 'quality2'], axis=1).copy()\n",
    "X1 = data.drop(['quality', 'quality1', 'quality2'], axis=1).copy()\n",
    "X2 = data.drop(['quality', 'quality1', 'quality2'], axis=1).copy()\n",
    "\n",
    "y = data['quality'].copy()\n",
    "y1 = data['quality1'].copy()\n",
    "y2 = data['quality2'].copy()\n",
    "\n",
    "print(X.shape, y.shape, y1.shape, y2.shape)"
   ]
  },
  {
   "cell_type": "markdown",
   "metadata": {},
   "source": [
    "## Scaling our data"
   ]
  },
  {
   "cell_type": "code",
   "execution_count": 46,
   "metadata": {
    "ExecuteTime": {
     "end_time": "2021-01-13T12:58:20.590376Z",
     "start_time": "2021-01-13T12:58:20.526373Z"
    }
   },
   "outputs": [],
   "source": [
    "from sklearn.preprocessing import StandardScaler, MinMaxScaler\n",
    "\n",
    "# Standard Scaler gave better results\n",
    "\n",
    "X = StandardScaler().fit_transform(X)\n",
    "X1 = StandardScaler().fit_transform(X1)\n",
    "X2 = StandardScaler().fit_transform(X2)"
   ]
  },
  {
   "cell_type": "markdown",
   "metadata": {
    "ExecuteTime": {
     "end_time": "2020-11-26T23:36:51.676590Z",
     "start_time": "2020-11-26T23:36:51.665589Z"
    }
   },
   "source": [
    "## Carrying out Smote over sampling to battle the imbalanced nature of our data"
   ]
  },
  {
   "cell_type": "code",
   "execution_count": 47,
   "metadata": {
    "ExecuteTime": {
     "end_time": "2021-01-13T12:58:22.206817Z",
     "start_time": "2021-01-13T12:58:22.126352Z"
    }
   },
   "outputs": [
    {
     "name": "stdout",
     "output_type": "stream",
     "text": [
      "(3462, 11) (3462,)\n",
      "(3336, 11) (3336,)\n",
      "(2350, 11) (2350,)\n"
     ]
    }
   ],
   "source": [
    "# SMOTE Technique\n",
    "from imblearn.over_sampling import SMOTE\n",
    "smote = SMOTE(random_state=10)\n",
    "\n",
    "X, y = smote.fit_sample(X, y)\n",
    "X1, y1 = smote.fit_sample(X1, y1)\n",
    "X2, y2 = smote.fit_sample(X2, y2)\n",
    "\n",
    "print(X.shape, y.shape)\n",
    "print(X1.shape, y1.shape)\n",
    "print(X2.shape, y2.shape)"
   ]
  },
  {
   "cell_type": "markdown",
   "metadata": {},
   "source": [
    "## Splitting with Stratified shuffle split"
   ]
  },
  {
   "cell_type": "code",
   "execution_count": 49,
   "metadata": {
    "ExecuteTime": {
     "end_time": "2021-01-13T13:04:00.345246Z",
     "start_time": "2021-01-13T13:04:00.265269Z"
    }
   },
   "outputs": [],
   "source": [
    "from sklearn.model_selection import StratifiedShuffleSplit\n",
    "\n",
    "ss = StratifiedShuffleSplit(n_splits=1, test_size=0.3, random_state=10)\n",
    "\n",
    "for train_index, test_index in ss.split(X, y):\n",
    "    X_train, X_test = X[train_index], X[test_index]\n",
    "    y_train, y_test = y.iloc[train_index], y.iloc[test_index]\n",
    "    \n",
    "    \n",
    "for train_index, test_index in ss.split(X1, y1):\n",
    "    X_train1, X_test1 = X1[train_index], X1[test_index]\n",
    "    y_train1, y_test1 = y1.iloc[train_index], y1.iloc[test_index]\n",
    "    \n",
    "\n",
    "for train_index, test_index in ss.split(X2, y2):\n",
    "    X_train2, X_test2 = X2[train_index], X2[test_index]\n",
    "    y_train2, y_test2 = y2.iloc[train_index], y2.iloc[test_index]"
   ]
  },
  {
   "cell_type": "code",
   "execution_count": null,
   "metadata": {},
   "outputs": [],
   "source": []
  },
  {
   "cell_type": "markdown",
   "metadata": {},
   "source": [
    "# ML Application\n",
    "\n",
    "- Define models.\n",
    "- Fit models.\n",
    "- Evaluate models for both train and test dataset.\n",
    "- Generate Confusion Matrix and scores of Accuracy, Recall, Precision and F1-Score.\n",
    "- Analyse occurrence of overfitting and underfitting. If there is any of them, try to overcome it within a different section."
   ]
  },
  {
   "cell_type": "code",
   "execution_count": 50,
   "metadata": {
    "ExecuteTime": {
     "end_time": "2021-01-13T13:46:45.178900Z",
     "start_time": "2021-01-13T13:46:45.146900Z"
    }
   },
   "outputs": [],
   "source": [
    "# importing our models and metrics\n",
    "\n",
    "from sklearn.ensemble import RandomForestClassifier\n",
    "from sklearn.linear_model import SGDClassifier, LogisticRegression\n",
    "from sklearn.svm import SVC\n",
    "from xgboost import XGBClassifier\n",
    "\n",
    "from sklearn.metrics import accuracy_score, precision_score, recall_score, f1_score, confusion_matrix, classification_report"
   ]
  },
  {
   "cell_type": "markdown",
   "metadata": {},
   "source": [
    "## First we would try out our model without scaling the features"
   ]
  },
  {
   "cell_type": "markdown",
   "metadata": {},
   "source": [
    "### Random Forest classifier"
   ]
  },
  {
   "cell_type": "code",
   "execution_count": 82,
   "metadata": {
    "ExecuteTime": {
     "end_time": "2021-01-13T15:09:08.044561Z",
     "start_time": "2021-01-13T15:09:06.335859Z"
    },
    "scrolled": false
   },
   "outputs": [
    {
     "name": "stdout",
     "output_type": "stream",
     "text": [
      "              precision    recall  f1-score   support\n",
      "\n",
      "           3       0.99      0.98      0.99       175\n",
      "           4       0.96      0.90      0.93       186\n",
      "           5       0.65      0.71      0.68       157\n",
      "           6       0.59      0.67      0.63       153\n",
      "           7       0.93      0.85      0.89       190\n",
      "           8       1.00      0.97      0.99       178\n",
      "\n",
      "    accuracy                           0.85      1039\n",
      "   macro avg       0.85      0.85      0.85      1039\n",
      "weighted avg       0.87      0.85      0.86      1039\n",
      " \n",
      "\n",
      "AxesSubplot(0.125,0.125;0.62x0.755) \n",
      "\n",
      "Precision:  0.8536033043208646\n",
      "Train Accuracy:  1.0\n",
      "Accuracy:  0.8537054860442733\n",
      "Recall:  0.8466712669133211\n",
      "F1 Score:  0.8489409337017534\n"
     ]
    },
    {
     "data": {
      "image/png": "[encoded data removed]",
      "text/plain": [
       "<Figure size 432x288 with 2 Axes>"
      ]
     },
     "metadata": {
      "needs_background": "light"
     },
     "output_type": "display_data"
    }
   ],
   "source": [
    "rf = RandomForestClassifier(n_estimators=100,\n",
    "                       random_state=10)\n",
    "rf.fit(X_train, y_train)\n",
    "pred3 = rf.predict(X_test)\n",
    "pred3t = rf.predict(X_train)\n",
    "\n",
    "print(classification_report(pred3, y_test), '\\n')\n",
    "print(sns.heatmap(confusion_matrix(pred3, y_test), annot=True, cmap='coolwarm'), '\\n')\n",
    "print('Precision: ', precision_score(pred3, y_test, average='macro'))\n",
    "print('Train Accuracy: ', accuracy_score(pred3t, y_train))\n",
    "print('Accuracy: ', accuracy_score(pred3, y_test))\n",
    "print('Recall: ', recall_score(pred3, y_test, average= 'macro'))\n",
    "print('F1 Score: ', f1_score(pred3, y_test, average= 'macro'))"
   ]
  },
  {
   "cell_type": "code",
   "execution_count": 55,
   "metadata": {
    "ExecuteTime": {
     "end_time": "2021-01-13T14:29:56.896070Z",
     "start_time": "2021-01-13T14:29:56.880070Z"
    }
   },
   "outputs": [
    {
     "data": {
      "text/plain": [
       "{'bootstrap': True,\n",
       " 'ccp_alpha': 0.0,\n",
       " 'class_weight': None,\n",
       " 'criterion': 'gini',\n",
       " 'max_depth': None,\n",
       " 'max_features': 'auto',\n",
       " 'max_leaf_nodes': None,\n",
       " 'max_samples': None,\n",
       " 'min_impurity_decrease': 0.0,\n",
       " 'min_impurity_split': None,\n",
       " 'min_samples_leaf': 1,\n",
       " 'min_samples_split': 2,\n",
       " 'min_weight_fraction_leaf': 0.0,\n",
       " 'n_estimators': 1000,\n",
       " 'n_jobs': None,\n",
       " 'oob_score': False,\n",
       " 'random_state': 10,\n",
       " 'verbose': 0,\n",
       " 'warm_start': False}"
      ]
     },
     "execution_count": 55,
     "metadata": {},
     "output_type": "execute_result"
    }
   ],
   "source": [
    "rf.get_params()"
   ]
  },
  {
   "cell_type": "code",
   "execution_count": 56,
   "metadata": {
    "ExecuteTime": {
     "end_time": "2021-01-13T14:29:57.280072Z",
     "start_time": "2021-01-13T14:29:57.072116Z"
    }
   },
   "outputs": [
    {
     "data": {
      "text/html": [
       "<div>\n",
       "<style scoped>\n",
       "    .dataframe tbody tr th:only-of-type {\n",
       "        vertical-align: middle;\n",
       "    }\n",
       "\n",
       "    .dataframe tbody tr th {\n",
       "        vertical-align: top;\n",
       "    }\n",
       "\n",
       "    .dataframe thead th {\n",
       "        text-align: right;\n",
       "    }\n",
       "</style>\n",
       "<table border=\"1\" class=\"dataframe\">\n",
       "  <thead>\n",
       "    <tr style=\"text-align: right;\">\n",
       "      <th></th>\n",
       "      <th>0</th>\n",
       "      <th>1</th>\n",
       "      <th>2</th>\n",
       "      <th>3</th>\n",
       "      <th>4</th>\n",
       "      <th>5</th>\n",
       "      <th>6</th>\n",
       "      <th>7</th>\n",
       "      <th>8</th>\n",
       "      <th>9</th>\n",
       "      <th>10</th>\n",
       "      <th>11</th>\n",
       "      <th>12</th>\n",
       "      <th>13</th>\n",
       "    </tr>\n",
       "  </thead>\n",
       "  <tbody>\n",
       "    <tr>\n",
       "      <th>0</th>\n",
       "      <td>fixed acidity</td>\n",
       "      <td>volatile acidity</td>\n",
       "      <td>citric acid</td>\n",
       "      <td>residual sugar</td>\n",
       "      <td>chlorides</td>\n",
       "      <td>free sulfur dioxide</td>\n",
       "      <td>total sulfur dioxide</td>\n",
       "      <td>density</td>\n",
       "      <td>pH</td>\n",
       "      <td>sulphates</td>\n",
       "      <td>alcohol</td>\n",
       "      <td>quality</td>\n",
       "      <td>quality1</td>\n",
       "      <td>quality2</td>\n",
       "    </tr>\n",
       "    <tr>\n",
       "      <th>1</th>\n",
       "      <td>0.0660273</td>\n",
       "      <td>0.14061</td>\n",
       "      <td>0.080528</td>\n",
       "      <td>0.0709214</td>\n",
       "      <td>0.0965639</td>\n",
       "      <td>0.0656616</td>\n",
       "      <td>0.0921242</td>\n",
       "      <td>0.0704453</td>\n",
       "      <td>0.0749206</td>\n",
       "      <td>0.12285</td>\n",
       "      <td>0.119348</td>\n",
       "      <td>None</td>\n",
       "      <td>None</td>\n",
       "      <td>None</td>\n",
       "    </tr>\n",
       "  </tbody>\n",
       "</table>\n",
       "</div>"
      ],
      "text/plain": [
       "              0                 1            2               3          4   \\\n",
       "0  fixed acidity  volatile acidity  citric acid  residual sugar  chlorides   \n",
       "1      0.0660273           0.14061     0.080528       0.0709214  0.0965639   \n",
       "\n",
       "                    5                     6          7          8          9   \\\n",
       "0  free sulfur dioxide  total sulfur dioxide    density         pH  sulphates   \n",
       "1            0.0656616             0.0921242  0.0704453  0.0749206    0.12285   \n",
       "\n",
       "         10       11        12        13  \n",
       "0   alcohol  quality  quality1  quality2  \n",
       "1  0.119348     None      None      None  "
      ]
     },
     "execution_count": 56,
     "metadata": {},
     "output_type": "execute_result"
    }
   ],
   "source": [
    "# Checking the importance of features\n",
    "\n",
    "pd.DataFrame([data.columns, rf.feature_importances_])"
   ]
  },
  {
   "cell_type": "code",
   "execution_count": 81,
   "metadata": {
    "ExecuteTime": {
     "end_time": "2021-01-13T15:08:57.999564Z",
     "start_time": "2021-01-13T15:08:56.663636Z"
    }
   },
   "outputs": [
    {
     "name": "stdout",
     "output_type": "stream",
     "text": [
      "              precision    recall  f1-score   support\n",
      "\n",
      "           0       0.99      0.95      0.97       349\n",
      "           1       0.84      0.93      0.88       302\n",
      "           2       0.95      0.90      0.92       350\n",
      "\n",
      "    accuracy                           0.93      1001\n",
      "   macro avg       0.93      0.93      0.93      1001\n",
      "weighted avg       0.93      0.93      0.93      1001\n",
      " \n",
      "\n",
      "AxesSubplot(0.125,0.125;0.62x0.755) \n",
      "\n",
      "Precision:  0.9261387135638633\n",
      "Train Accuracy:  1.0\n",
      "Accuracy:  0.926073926073926\n",
      "Recall:  0.9262931527570325\n",
      "F1 Score:  0.9251221141377145\n"
     ]
    },
    {
     "data": {
      "image/png": "[encoded data removed]",
      "text/plain": [
       "<Figure size 432x288 with 2 Axes>"
      ]
     },
     "metadata": {
      "needs_background": "light"
     },
     "output_type": "display_data"
    }
   ],
   "source": [
    "# Quality1\n",
    "\n",
    "rf1 = RandomForestClassifier(n_estimators=100,\n",
    "                       random_state=10)\n",
    "rf1.fit(X_train1, y_train1)\n",
    "pred31 = rf1.predict(X_test1)\n",
    "pred3t1 = rf1.predict(X_train1)\n",
    "\n",
    "print(classification_report(pred31, y_test1), '\\n')\n",
    "print(sns.heatmap(confusion_matrix(pred31, y_test1), annot=True, cmap='coolwarm'), '\\n')\n",
    "print('Precision: ', precision_score(pred31, y_test1, average='macro'))\n",
    "print('Train Accuracy: ', accuracy_score(pred3t1, y_train1))\n",
    "print('Accuracy: ', accuracy_score(pred31, y_test1))\n",
    "print('Recall: ', recall_score(pred31, y_test1, average= 'macro'))\n",
    "print('F1 Score: ', f1_score(pred31, y_test1, average= 'macro'))"
   ]
  },
  {
   "cell_type": "code",
   "execution_count": 83,
   "metadata": {
    "ExecuteTime": {
     "end_time": "2021-01-13T15:09:26.720297Z",
     "start_time": "2021-01-13T15:09:25.882710Z"
    }
   },
   "outputs": [
    {
     "name": "stdout",
     "output_type": "stream",
     "text": [
      "              precision    recall  f1-score   support\n",
      "\n",
      "           0       0.90      0.96      0.93       330\n",
      "           1       0.96      0.90      0.93       375\n",
      "\n",
      "    accuracy                           0.93       705\n",
      "   macro avg       0.93      0.93      0.93       705\n",
      "weighted avg       0.93      0.93      0.93       705\n",
      " \n",
      "\n",
      "AxesSubplot(0.125,0.125;0.62x0.755) \n",
      "\n",
      "Precision:  0.9603399433427762\n",
      "Train Accuracy:  1.0\n",
      "Accuracy:  0.9290780141843972\n",
      "Recall:  0.904\n",
      "F1 Score:  0.9313186813186813\n"
     ]
    },
    {
     "data": {
      "image/png": "[encoded data removed]",
      "text/plain": [
       "<Figure size 432x288 with 2 Axes>"
      ]
     },
     "metadata": {
      "needs_background": "light"
     },
     "output_type": "display_data"
    }
   ],
   "source": [
    "# Quality2\n",
    "\n",
    "rf2 = RandomForestClassifier(n_estimators=100,\n",
    "                       random_state=10)\n",
    "rf2.fit(X_train2, y_train2)\n",
    "pred32 = rf2.predict(X_test2)\n",
    "pred3t2 = rf2.predict(X_train2)\n",
    "\n",
    "print(classification_report(pred32, y_test2), '\\n')\n",
    "print(sns.heatmap(confusion_matrix(pred32, y_test2), annot=True, cmap='coolwarm'), '\\n')\n",
    "print('Precision: ', precision_score(pred32, y_test2))\n",
    "print('Train Accuracy: ', accuracy_score(pred3t2, y_train2))\n",
    "print('Accuracy: ', accuracy_score(pred32, y_test2))\n",
    "print('Recall: ', recall_score(pred32, y_test2))\n",
    "print('F1 Score: ', f1_score(pred32, y_test2))"
   ]
  },
  {
   "cell_type": "markdown",
   "metadata": {},
   "source": [
    "### SVC Classifier"
   ]
  },
  {
   "cell_type": "code",
   "execution_count": 78,
   "metadata": {
    "ExecuteTime": {
     "end_time": "2021-01-13T14:48:43.256636Z",
     "start_time": "2021-01-13T14:48:42.209315Z"
    }
   },
   "outputs": [
    {
     "name": "stdout",
     "output_type": "stream",
     "text": [
      "              precision    recall  f1-score   support\n",
      "\n",
      "           3       1.00      1.00      1.00       173\n",
      "           4       0.96      0.95      0.95       176\n",
      "           5       0.68      0.67      0.68       175\n",
      "           6       0.62      0.66      0.64       163\n",
      "           7       0.90      0.89      0.89       176\n",
      "           8       1.00      0.98      0.99       176\n",
      "\n",
      "    accuracy                           0.86      1039\n",
      "   macro avg       0.86      0.86      0.86      1039\n",
      "weighted avg       0.86      0.86      0.86      1039\n",
      " \n",
      "\n",
      "AxesSubplot(0.125,0.125;0.62x0.755) \n",
      "\n",
      "Precision:  0.8613104334152769\n",
      "Accuracy:  0.861405197305101\n",
      "Recall:  0.8591740365973495\n",
      "F1 Score:  0.8601150993612213\n"
     ]
    },
    {
     "data": {
      "image/png": "[encoded data removed]",
      "text/plain": [
       "<Figure size 432x288 with 2 Axes>"
      ]
     },
     "metadata": {
      "needs_background": "light"
     },
     "output_type": "display_data"
    }
   ],
   "source": [
    "svc = SVC(C=1.2, class_weight=None, gamma=0.9, kernel='rbf')\n",
    "svc.fit(X_train, y_train)\n",
    "pred4 = svc.predict(X_test)\n",
    "\n",
    "print(classification_report(pred4, y_test), '\\n')\n",
    "print(sns.heatmap(confusion_matrix(pred4, y_test), annot=True, cmap='coolwarm'), '\\n')\n",
    "print('Precision: ', precision_score(pred4, y_test, average='macro'))\n",
    "print('Accuracy: ', accuracy_score(pred4, y_test))\n",
    "print('Recall: ', recall_score(pred4, y_test, average= 'macro'))\n",
    "print('F1 Score: ', f1_score(pred4, y_test, average= 'macro'))"
   ]
  },
  {
   "cell_type": "code",
   "execution_count": 79,
   "metadata": {
    "ExecuteTime": {
     "end_time": "2021-01-13T14:48:53.096559Z",
     "start_time": "2021-01-13T14:48:52.469228Z"
    }
   },
   "outputs": [
    {
     "name": "stdout",
     "output_type": "stream",
     "text": [
      "              precision    recall  f1-score   support\n",
      "\n",
      "           0       0.99      0.97      0.98       343\n",
      "           1       0.88      0.93      0.91       316\n",
      "           2       0.94      0.92      0.93       342\n",
      "\n",
      "    accuracy                           0.94      1001\n",
      "   macro avg       0.94      0.94      0.94      1001\n",
      "weighted avg       0.94      0.94      0.94      1001\n",
      " \n",
      "\n",
      "AxesSubplot(0.125,0.125;0.62x0.755) \n",
      "\n",
      "Precision:  0.9401137664610718\n",
      "Accuracy:  0.9400599400599401\n",
      "Recall:  0.9398705042119637\n",
      "F1 Score:  0.939644970414201\n"
     ]
    },
    {
     "data": {
      "image/png": "[encoded data removed]",
      "text/plain": [
       "<Figure size 432x288 with 2 Axes>"
      ]
     },
     "metadata": {
      "needs_background": "light"
     },
     "output_type": "display_data"
    }
   ],
   "source": [
    "# Quality1\n",
    "\n",
    "svc1 = SVC(C=1.2, class_weight=None, gamma=0.9, kernel='rbf')\n",
    "svc1.fit(X_train1, y_train1)\n",
    "pred41 = svc1.predict(X_test1)\n",
    "\n",
    "print(classification_report(pred41, y_test1), '\\n')\n",
    "print(sns.heatmap(confusion_matrix(pred41, y_test1), annot=True, cmap='coolwarm'), '\\n')\n",
    "print('Precision: ', precision_score(pred41, y_test1, average='macro'))\n",
    "print('Accuracy: ', accuracy_score(pred41, y_test1))\n",
    "print('Recall: ', recall_score(pred41, y_test1, average= 'macro'))\n",
    "print('F1 Score: ', f1_score(pred41, y_test1, average= 'macro'))"
   ]
  },
  {
   "cell_type": "code",
   "execution_count": 80,
   "metadata": {
    "ExecuteTime": {
     "end_time": "2021-01-13T14:49:08.544305Z",
     "start_time": "2021-01-13T14:49:08.035844Z"
    }
   },
   "outputs": [
    {
     "name": "stdout",
     "output_type": "stream",
     "text": [
      "              precision    recall  f1-score   support\n",
      "\n",
      "           0       0.93      0.96      0.94       343\n",
      "           1       0.96      0.93      0.95       362\n",
      "\n",
      "    accuracy                           0.94       705\n",
      "   macro avg       0.94      0.94      0.94       705\n",
      "weighted avg       0.95      0.94      0.94       705\n",
      " \n",
      "\n",
      "AxesSubplot(0.125,0.125;0.62x0.755) \n",
      "\n",
      "Precision:  0.9575070821529745\n",
      "Accuracy:  0.9446808510638298\n",
      "Recall:  0.9337016574585635\n",
      "F1 Score:  0.9454545454545454\n"
     ]
    },
    {
     "data": {
      "image/png": "[encoded data removed]",
      "text/plain": [
       "<Figure size 432x288 with 2 Axes>"
      ]
     },
     "metadata": {
      "needs_background": "light"
     },
     "output_type": "display_data"
    }
   ],
   "source": [
    "# Quality2\n",
    "\n",
    "svc2 = SVC(C=1.2, class_weight=None, gamma=0.9, kernel='rbf')\n",
    "svc2.fit(X_train2, y_train2)\n",
    "pred42 = svc2.predict(X_test2)\n",
    "\n",
    "print(classification_report(pred42, y_test2), '\\n')\n",
    "print(sns.heatmap(confusion_matrix(pred42, y_test2), annot=True, cmap='coolwarm'), '\\n')\n",
    "print('Precision: ', precision_score(pred42, y_test2))\n",
    "print('Accuracy: ', accuracy_score(pred42, y_test2))\n",
    "print('Recall: ', recall_score(pred42, y_test2))\n",
    "print('F1 Score: ', f1_score(pred42, y_test2))"
   ]
  },
  {
   "cell_type": "markdown",
   "metadata": {},
   "source": [
    "### SGD classifier"
   ]
  },
  {
   "cell_type": "code",
   "execution_count": 62,
   "metadata": {
    "ExecuteTime": {
     "end_time": "2021-01-13T14:31:25.917680Z",
     "start_time": "2021-01-13T14:31:24.911606Z"
    }
   },
   "outputs": [
    {
     "name": "stdout",
     "output_type": "stream",
     "text": [
      "              precision    recall  f1-score   support\n",
      "\n",
      "           3       1.00      0.73      0.85       236\n",
      "           4       0.40      0.53      0.45       130\n",
      "           5       0.65      0.50      0.56       228\n",
      "           6       0.17      0.38      0.23        77\n",
      "           7       0.42      0.51      0.46       144\n",
      "           8       0.79      0.61      0.69       224\n",
      "\n",
      "    accuracy                           0.57      1039\n",
      "   macro avg       0.57      0.54      0.54      1039\n",
      "weighted avg       0.66      0.57      0.60      1039\n",
      " \n",
      "\n",
      "AxesSubplot(0.125,0.125;0.62x0.755) \n",
      "\n",
      "Precision:  0.5709089097069963\n",
      "Accuracy:  0.5707410972088547\n",
      "Recall:  0.5416907985875425\n",
      "F1 Score:  0.5402017539037937\n"
     ]
    },
    {
     "data": {
      "image/png": "[encoded data removed]",
      "text/plain": [
       "<Figure size 432x288 with 2 Axes>"
      ]
     },
     "metadata": {
      "needs_background": "light"
     },
     "output_type": "display_data"
    }
   ],
   "source": [
    "sgd = SGDClassifier(random_state=10)\n",
    "sgd.fit(X_train, y_train)\n",
    "pred5 = sgd.predict(X_test)\n",
    "\n",
    "print(classification_report(pred5, y_test), '\\n')\n",
    "print(sns.heatmap(confusion_matrix(pred5, y_test), annot=True, cmap='coolwarm'), '\\n')\n",
    "print('Precision: ', precision_score(pred5, y_test, average='macro'))\n",
    "print('Accuracy: ', accuracy_score(pred5, y_test))\n",
    "print('Recall: ', recall_score(pred5, y_test, average= 'macro'))\n",
    "print('F1 Score: ', f1_score(pred5, y_test, average= 'macro'))"
   ]
  },
  {
   "cell_type": "code",
   "execution_count": 63,
   "metadata": {
    "ExecuteTime": {
     "end_time": "2021-01-13T14:31:47.215497Z",
     "start_time": "2021-01-13T14:31:46.780907Z"
    }
   },
   "outputs": [
    {
     "name": "stdout",
     "output_type": "stream",
     "text": [
      "              precision    recall  f1-score   support\n",
      "\n",
      "           0       0.87      0.71      0.78       409\n",
      "           1       0.50      0.73      0.59       231\n",
      "           2       0.84      0.78      0.81       361\n",
      "\n",
      "    accuracy                           0.74      1001\n",
      "   macro avg       0.74      0.74      0.73      1001\n",
      "weighted avg       0.77      0.74      0.75      1001\n",
      " \n",
      "\n",
      "AxesSubplot(0.125,0.125;0.62x0.755) \n",
      "\n",
      "Precision:  0.736395077712443\n",
      "Accuracy:  0.7362637362637363\n",
      "Recall:  0.7364991543211511\n",
      "F1 Score:  0.726473800803357\n"
     ]
    },
    {
     "data": {
      "image/png": "[encoded data removed]",
      "text/plain": [
       "<Figure size 432x288 with 2 Axes>"
      ]
     },
     "metadata": {
      "needs_background": "light"
     },
     "output_type": "display_data"
    }
   ],
   "source": [
    "# Quality 1\n",
    "\n",
    "sgd1 = SGDClassifier(random_state=10)\n",
    "sgd1.fit(X_train1, y_train1)\n",
    "pred51 = sgd1.predict(X_test1)\n",
    "\n",
    "print(classification_report(pred51, y_test1), '\\n')\n",
    "print(sns.heatmap(confusion_matrix(pred51, y_test1), annot=True, cmap='coolwarm'), '\\n')\n",
    "print('Precision: ', precision_score(pred51, y_test1, average='macro'))\n",
    "print('Accuracy: ', accuracy_score(pred51, y_test1))\n",
    "print('Recall: ', recall_score(pred51, y_test1, average= 'macro'))\n",
    "print('F1 Score: ', f1_score(pred51, y_test1, average= 'macro'))"
   ]
  },
  {
   "cell_type": "code",
   "execution_count": 64,
   "metadata": {
    "ExecuteTime": {
     "end_time": "2021-01-13T14:31:50.466241Z",
     "start_time": "2021-01-13T14:31:50.081963Z"
    }
   },
   "outputs": [
    {
     "name": "stdout",
     "output_type": "stream",
     "text": [
      "              precision    recall  f1-score   support\n",
      "\n",
      "           0       0.66      0.86      0.74       271\n",
      "           1       0.89      0.72      0.80       434\n",
      "\n",
      "    accuracy                           0.77       705\n",
      "   macro avg       0.77      0.79      0.77       705\n",
      "weighted avg       0.80      0.77      0.78       705\n",
      " \n",
      "\n",
      "AxesSubplot(0.125,0.125;0.62x0.755) \n",
      "\n",
      "Precision:  0.8895184135977338\n",
      "Accuracy:  0.774468085106383\n",
      "Recall:  0.7235023041474654\n",
      "F1 Score:  0.7979669631512072\n"
     ]
    },
    {
     "data": {
      "image/png": "[encoded data removed]",
      "text/plain": [
       "<Figure size 432x288 with 2 Axes>"
      ]
     },
     "metadata": {
      "needs_background": "light"
     },
     "output_type": "display_data"
    }
   ],
   "source": [
    "# Quality 2\n",
    "\n",
    "sgd2 = SGDClassifier(random_state=10)\n",
    "sgd2.fit(X_train2, y_train2)\n",
    "pred52 = sgd2.predict(X_test2)\n",
    "\n",
    "print(classification_report(pred52, y_test2), '\\n')\n",
    "print(sns.heatmap(confusion_matrix(pred52, y_test2), annot=True, cmap='coolwarm'), '\\n')\n",
    "print('Precision: ', precision_score(pred52, y_test2))\n",
    "print('Accuracy: ', accuracy_score(pred52, y_test2))\n",
    "print('Recall: ', recall_score(pred52, y_test2))\n",
    "print('F1 Score: ', f1_score(pred52, y_test2))"
   ]
  },
  {
   "cell_type": "markdown",
   "metadata": {},
   "source": [
    "### Logistic Regresson Classifier"
   ]
  },
  {
   "cell_type": "code",
   "execution_count": 65,
   "metadata": {
    "ExecuteTime": {
     "end_time": "2021-01-13T14:31:57.510582Z",
     "start_time": "2021-01-13T14:31:56.799734Z"
    }
   },
   "outputs": [
    {
     "name": "stdout",
     "output_type": "stream",
     "text": [
      "              precision    recall  f1-score   support\n",
      "\n",
      "           3       1.00      0.79      0.88       218\n",
      "           4       0.56      0.65      0.60       151\n",
      "           5       0.55      0.57      0.56       166\n",
      "           6       0.34      0.56      0.42       103\n",
      "           7       0.47      0.47      0.47       175\n",
      "           8       0.83      0.64      0.72       226\n",
      "\n",
      "    accuracy                           0.63      1039\n",
      "   macro avg       0.63      0.61      0.61      1039\n",
      "weighted avg       0.67      0.63      0.64      1039\n",
      " \n",
      "\n",
      "AxesSubplot(0.125,0.125;0.62x0.755) \n",
      "\n",
      "Precision:  0.6256616393152171\n",
      "Accuracy:  0.6256015399422522\n",
      "Recall:  0.6139533545125487\n",
      "F1 Score:  0.6103030199297264\n"
     ]
    },
    {
     "data": {
      "image/png": "[encoded data removed]",
      "text/plain": [
       "<Figure size 432x288 with 2 Axes>"
      ]
     },
     "metadata": {
      "needs_background": "light"
     },
     "output_type": "display_data"
    }
   ],
   "source": [
    "lg = LogisticRegression(random_state=10)\n",
    "lg.fit(X_train, y_train)\n",
    "pred6 = lg.predict(X_test)\n",
    "\n",
    "print(classification_report(pred6, y_test), '\\n')\n",
    "print(sns.heatmap(confusion_matrix(pred6, y_test), annot=True, cmap='coolwarm'), '\\n')\n",
    "print('Precision: ', precision_score(pred6, y_test, average='macro'))\n",
    "print('Accuracy: ', accuracy_score(pred6, y_test))\n",
    "print('Recall: ', recall_score(pred6, y_test, average= 'macro'))\n",
    "print('F1 Score: ', f1_score(pred6, y_test, average= 'macro'))"
   ]
  },
  {
   "cell_type": "code",
   "execution_count": 66,
   "metadata": {
    "ExecuteTime": {
     "end_time": "2021-01-13T14:32:03.192845Z",
     "start_time": "2021-01-13T14:32:02.723248Z"
    }
   },
   "outputs": [
    {
     "name": "stdout",
     "output_type": "stream",
     "text": [
      "              precision    recall  f1-score   support\n",
      "\n",
      "           0       0.79      0.76      0.77       347\n",
      "           1       0.57      0.66      0.62       290\n",
      "           2       0.83      0.76      0.80       364\n",
      "\n",
      "    accuracy                           0.73      1001\n",
      "   macro avg       0.73      0.73      0.73      1001\n",
      "weighted avg       0.74      0.73      0.74      1001\n",
      " \n",
      "\n",
      "AxesSubplot(0.125,0.125;0.62x0.755) \n",
      "\n",
      "Precision:  0.7313241385097672\n",
      "Accuracy:  0.7312687312687313\n",
      "Recall:  0.726949485639737\n",
      "F1 Score:  0.7275114850877534\n"
     ]
    },
    {
     "data": {
      "image/png": "[encoded data removed]",
      "text/plain": [
       "<Figure size 432x288 with 2 Axes>"
      ]
     },
     "metadata": {
      "needs_background": "light"
     },
     "output_type": "display_data"
    }
   ],
   "source": [
    "# Quality1\n",
    "\n",
    "lg1 = LogisticRegression(random_state=10)\n",
    "lg1.fit(X_train1, y_train1)\n",
    "pred61 = lg1.predict(X_test1)\n",
    "\n",
    "print(classification_report(pred61, y_test1), '\\n')\n",
    "print(sns.heatmap(confusion_matrix(pred61, y_test1), annot=True, cmap='coolwarm'), '\\n')\n",
    "print('Precision: ', precision_score(pred61, y_test1, average='macro'))\n",
    "print('Accuracy: ', accuracy_score(pred61, y_test1))\n",
    "print('Recall: ', recall_score(pred61, y_test1, average= 'macro'))\n",
    "print('F1 Score: ', f1_score(pred61, y_test1, average= 'macro'))"
   ]
  },
  {
   "cell_type": "code",
   "execution_count": 67,
   "metadata": {
    "ExecuteTime": {
     "end_time": "2021-01-13T14:32:06.605253Z",
     "start_time": "2021-01-13T14:32:06.193265Z"
    }
   },
   "outputs": [
    {
     "name": "stdout",
     "output_type": "stream",
     "text": [
      "              precision    recall  f1-score   support\n",
      "\n",
      "           0       0.78      0.84      0.81       325\n",
      "           1       0.85      0.79      0.82       380\n",
      "\n",
      "    accuracy                           0.81       705\n",
      "   macro avg       0.81      0.82      0.81       705\n",
      "weighted avg       0.82      0.81      0.81       705\n",
      " \n",
      "\n",
      "AxesSubplot(0.125,0.125;0.62x0.755) \n",
      "\n",
      "Precision:  0.8526912181303116\n",
      "Accuracy:  0.8141843971631205\n",
      "Recall:  0.7921052631578948\n",
      "F1 Score:  0.8212824010914052\n"
     ]
    },
    {
     "data": {
      "image/png": "[encoded data removed]",
      "text/plain": [
       "<Figure size 432x288 with 2 Axes>"
      ]
     },
     "metadata": {
      "needs_background": "light"
     },
     "output_type": "display_data"
    }
   ],
   "source": [
    "# Quality2\n",
    "\n",
    "lg2 = LogisticRegression(random_state=10)\n",
    "lg2.fit(X_train2, y_train2)\n",
    "pred62 = lg2.predict(X_test2)\n",
    "\n",
    "print(classification_report(pred62, y_test2), '\\n')\n",
    "print(sns.heatmap(confusion_matrix(pred62, y_test2), annot=True, cmap='coolwarm'), '\\n')\n",
    "print('Precision: ', precision_score(pred62, y_test2))\n",
    "print('Accuracy: ', accuracy_score(pred62, y_test2))\n",
    "print('Recall: ', recall_score(pred62, y_test2))\n",
    "print('F1 Score: ', f1_score(pred62, y_test2))"
   ]
  },
  {
   "cell_type": "markdown",
   "metadata": {},
   "source": [
    "### XGBoost"
   ]
  },
  {
   "cell_type": "code",
   "execution_count": 71,
   "metadata": {
    "ExecuteTime": {
     "end_time": "2021-01-13T14:32:44.524803Z",
     "start_time": "2021-01-13T14:32:41.874143Z"
    }
   },
   "outputs": [
    {
     "name": "stdout",
     "output_type": "stream",
     "text": [
      "              precision    recall  f1-score   support\n",
      "\n",
      "           3       0.98      0.94      0.96       180\n",
      "           4       0.85      0.81      0.83       182\n",
      "           5       0.57      0.63      0.60       158\n",
      "           6       0.45      0.55      0.49       139\n",
      "           7       0.79      0.73      0.76       188\n",
      "           8       0.98      0.88      0.93       192\n",
      "\n",
      "    accuracy                           0.77      1039\n",
      "   macro avg       0.77      0.76      0.76      1039\n",
      "weighted avg       0.79      0.77      0.78      1039\n",
      " \n",
      "\n",
      "AxesSubplot(0.125,0.125;0.62x0.755) \n",
      "\n",
      "Precision:  0.7689300821650832\n",
      "Accuracy:  0.7690086621751684\n",
      "Recall:  0.7569244254462902\n",
      "F1 Score:  0.7609624964036077\n"
     ]
    },
    {
     "data": {
      "image/png": "[encoded data removed]",
      "text/plain": [
       "<Figure size 432x288 with 2 Axes>"
      ]
     },
     "metadata": {
      "needs_background": "light"
     },
     "output_type": "display_data"
    }
   ],
   "source": [
    "xgb = XGBClassifier(random_state=10)\n",
    "xgb.fit(X_train, y_train)\n",
    "pred7 = xgb.predict(X_test)\n",
    "\n",
    "print(classification_report(pred7, y_test), '\\n')\n",
    "print(sns.heatmap(confusion_matrix(pred7, y_test), annot=True, cmap='coolwarm'), '\\n')\n",
    "print('Precision: ', precision_score(pred7, y_test, average='macro'))\n",
    "print('Accuracy: ', accuracy_score(pred7, y_test))\n",
    "print('Recall: ', recall_score(pred7, y_test, average= 'macro'))\n",
    "print('F1 Score: ', f1_score(pred7, y_test, average= 'macro'))"
   ]
  },
  {
   "cell_type": "code",
   "execution_count": 72,
   "metadata": {
    "ExecuteTime": {
     "end_time": "2021-01-13T14:32:57.058984Z",
     "start_time": "2021-01-13T14:32:56.034728Z"
    }
   },
   "outputs": [
    {
     "name": "stdout",
     "output_type": "stream",
     "text": [
      "              precision    recall  f1-score   support\n",
      "\n",
      "           0       0.92      0.90      0.91       338\n",
      "           1       0.76      0.82      0.79       311\n",
      "           2       0.91      0.86      0.88       352\n",
      "\n",
      "    accuracy                           0.86      1001\n",
      "   macro avg       0.86      0.86      0.86      1001\n",
      "weighted avg       0.87      0.86      0.86      1001\n",
      " \n",
      "\n",
      "AxesSubplot(0.125,0.125;0.62x0.755) \n",
      "\n",
      "Precision:  0.8621915328502155\n",
      "Accuracy:  0.8621378621378621\n",
      "Recall:  0.861032669923036\n",
      "F1 Score:  0.8610568359025882\n"
     ]
    },
    {
     "data": {
      "image/png": "[encoded data removed]",
      "text/plain": [
       "<Figure size 432x288 with 2 Axes>"
      ]
     },
     "metadata": {
      "needs_background": "light"
     },
     "output_type": "display_data"
    }
   ],
   "source": [
    "xgb1 = XGBClassifier(random_state=10)\n",
    "xgb1.fit(X_train1, y_train1)\n",
    "pred71 = xgb1.predict(X_test1)\n",
    "\n",
    "print(classification_report(pred71, y_test1), '\\n')\n",
    "print(sns.heatmap(confusion_matrix(pred71, y_test1), annot=True, cmap='coolwarm'), '\\n')\n",
    "print('Precision: ', precision_score(pred71, y_test1, average='macro'))\n",
    "print('Accuracy: ', accuracy_score(pred71, y_test1))\n",
    "print('Recall: ', recall_score(pred71, y_test1, average= 'macro'))\n",
    "print('F1 Score: ', f1_score(pred71, y_test1, average= 'macro'))"
   ]
  },
  {
   "cell_type": "code",
   "execution_count": 73,
   "metadata": {
    "ExecuteTime": {
     "end_time": "2021-01-13T14:33:10.013800Z",
     "start_time": "2021-01-13T14:33:09.525346Z"
    }
   },
   "outputs": [
    {
     "name": "stdout",
     "output_type": "stream",
     "text": [
      "              precision    recall  f1-score   support\n",
      "\n",
      "           0       0.86      0.93      0.89       326\n",
      "           1       0.93      0.87      0.90       379\n",
      "\n",
      "    accuracy                           0.90       705\n",
      "   macro avg       0.89      0.90      0.89       705\n",
      "weighted avg       0.90      0.90      0.90       705\n",
      " \n",
      "\n",
      "AxesSubplot(0.125,0.125;0.62x0.755) \n",
      "\n",
      "Precision:  0.9320113314447592\n",
      "Accuracy:  0.8950354609929078\n",
      "Recall:  0.8680738786279684\n",
      "F1 Score:  0.8989071038251366\n"
     ]
    },
    {
     "data": {
      "image/png": "[encoded data removed]",
      "text/plain": [
       "<Figure size 432x288 with 2 Axes>"
      ]
     },
     "metadata": {
      "needs_background": "light"
     },
     "output_type": "display_data"
    }
   ],
   "source": [
    "xgb2 = XGBClassifier(random_state=10)\n",
    "xgb2.fit(X_train2, y_train2)\n",
    "pred72 = xgb2.predict(X_test2)\n",
    "\n",
    "print(classification_report(pred72, y_test2), '\\n')\n",
    "print(sns.heatmap(confusion_matrix(pred72, y_test2), annot=True, cmap='coolwarm'), '\\n')\n",
    "print('Precision: ', precision_score(pred72, y_test2))\n",
    "print('Accuracy: ', accuracy_score(pred72, y_test2))\n",
    "print('Recall: ', recall_score(pred72, y_test2))\n",
    "print('F1 Score: ', f1_score(pred72, y_test2))"
   ]
  },
  {
   "cell_type": "markdown",
   "metadata": {},
   "source": [
    "## Hyper Parameter Tuning our Best Performing model - Random Forest Classifier"
   ]
  },
  {
   "cell_type": "code",
   "execution_count": 76,
   "metadata": {
    "ExecuteTime": {
     "end_time": "2021-01-13T14:39:47.433095Z",
     "start_time": "2021-01-13T14:39:47.409122Z"
    }
   },
   "outputs": [],
   "source": [
    "from sklearn.model_selection import cross_val_score, GridSearchCV"
   ]
  },
  {
   "cell_type": "code",
   "execution_count": 64,
   "metadata": {
    "ExecuteTime": {
     "end_time": "2020-11-27T12:43:34.322188Z",
     "start_time": "2020-11-27T12:43:34.298188Z"
    }
   },
   "outputs": [],
   "source": [
    "param = {'n_estimators': [1000], 'min_samples_split': [2, 3, 4]}\n",
    "\n",
    "model = RandomForestClassifier(random_state=10, verbose=5)\n",
    "\n",
    "grid = GridSearchCV(estimator=model, param_grid=param, n_jobs=-1, verbose=5)"
   ]
  },
  {
   "cell_type": "code",
   "execution_count": 65,
   "metadata": {
    "ExecuteTime": {
     "end_time": "2020-11-27T12:44:23.560347Z",
     "start_time": "2020-11-27T12:43:34.897293Z"
    }
   },
   "outputs": [
    {
     "name": "stdout",
     "output_type": "stream",
     "text": [
      "Fitting 5 folds for each of 3 candidates, totalling 15 fits\n"
     ]
    },
    {
     "name": "stderr",
     "output_type": "stream",
     "text": [
      "[Parallel(n_jobs=-1)]: Using backend LokyBackend with 4 concurrent workers.\n",
      "[Parallel(n_jobs=-1)]: Done  12 out of  15 | elapsed:   34.0s remaining:    8.4s\n",
      "[Parallel(n_jobs=-1)]: Done  15 out of  15 | elapsed:   41.5s finished\n",
      "[Parallel(n_jobs=1)]: Using backend SequentialBackend with 1 concurrent workers.\n",
      "[Parallel(n_jobs=1)]: Done   1 out of   1 | elapsed:    0.0s remaining:    0.0s\n",
      "[Parallel(n_jobs=1)]: Done   2 out of   2 | elapsed:    0.0s remaining:    0.0s\n",
      "[Parallel(n_jobs=1)]: Done   3 out of   3 | elapsed:    0.0s remaining:    0.0s\n",
      "[Parallel(n_jobs=1)]: Done   4 out of   4 | elapsed:    0.0s remaining:    0.0s\n"
     ]
    },
    {
     "name": "stdout",
     "output_type": "stream",
     "text": [
      "building tree 1 of 1000\n",
      "building tree 2 of 1000\n",
      "building tree 3 of 1000\n",
      "building tree 4 of 1000\n",
      "building tree 5 of 1000\n",
      "building tree 6 of 1000\n",
      "building tree 7 of 1000\n",
      "building tree 8 of 1000\n",
      "building tree 9 of 1000\n",
      "building tree 10 of 1000\n",
      "building tree 11 of 1000\n",
      "building tree 12 of 1000\n",
      "building tree 13 of 1000\n",
      "building tree 14 of 1000\n",
      "building tree 15 of 1000\n",
      "building tree 16 of 1000\n",
      "building tree 17 of 1000\n",
      "building tree 18 of 1000\n",
      "building tree 19 of 1000\n",
      "building tree 20 of 1000\n",
      "building tree 21 of 1000\n",
      "building tree 22 of 1000\n",
      "building tree 23 of 1000\n",
      "building tree 24 of 1000\n",
      "building tree 25 of 1000\n",
      "building tree 26 of 1000\n",
      "building tree 27 of 1000\n",
      "building tree 28 of 1000\n",
      "building tree 29 of 1000\n",
      "building tree 30 of 1000\n",
      "building tree 31 of 1000\n",
      "building tree 32 of 1000\n",
      "building tree 33 of 1000\n",
      "building tree 34 of 1000\n",
      "building tree 35 of 1000\n",
      "building tree 36 of 1000\n",
      "building tree 37 of 1000\n",
      "building tree 38 of 1000\n",
      "building tree 39 of 1000\n",
      "building tree 40 of 1000\n",
      "building tree 41 of 1000\n",
      "building tree 42 of 1000\n",
      "building tree 43 of 1000\n",
      "building tree 44 of 1000\n",
      "building tree 45 of 1000\n",
      "building tree 46 of 1000\n",
      "building tree 47 of 1000\n",
      "building tree 48 of 1000\n",
      "building tree 49 of 1000\n",
      "building tree 50 of 1000\n",
      "building tree 51 of 1000\n",
      "building tree 52 of 1000\n",
      "building tree 53 of 1000\n",
      "building tree 54 of 1000\n",
      "building tree 55 of 1000\n",
      "building tree 56 of 1000\n",
      "building tree 57 of 1000\n",
      "building tree 58 of 1000\n",
      "building tree 59 of 1000\n",
      "building tree 60 of 1000\n",
      "building tree 61 of 1000\n",
      "building tree 62 of 1000\n",
      "building tree 63 of 1000\n",
      "building tree 64 of 1000\n",
      "building tree 65 of 1000\n",
      "building tree 66 of 1000\n",
      "building tree 67 of 1000\n",
      "building tree 68 of 1000\n",
      "building tree 69 of 1000\n",
      "building tree 70 of 1000\n",
      "building tree 71 of 1000\n",
      "building tree 72 of 1000\n",
      "building tree 73 of 1000\n",
      "building tree 74 of 1000\n",
      "building tree 75 of 1000\n",
      "building tree 76 of 1000\n",
      "building tree 77 of 1000\n",
      "building tree 78 of 1000\n",
      "building tree 79 of 1000\n",
      "building tree 80 of 1000\n",
      "building tree 81 of 1000\n",
      "building tree 82 of 1000\n",
      "building tree 83 of 1000\n",
      "building tree 84 of 1000\n",
      "building tree 85 of 1000\n",
      "building tree 86 of 1000\n",
      "building tree 87 of 1000\n",
      "building tree 88 of 1000\n",
      "building tree 89 of 1000\n",
      "building tree 90 of 1000\n",
      "building tree 91 of 1000\n",
      "building tree 92 of 1000\n",
      "building tree 93 of 1000\n",
      "building tree 94 of 1000\n",
      "building tree 95 of 1000\n",
      "building tree 96 of 1000\n",
      "building tree 97 of 1000\n",
      "building tree 98 of 1000\n",
      "building tree 99 of 1000\n",
      "building tree 100 of 1000\n",
      "building tree 101 of 1000\n",
      "building tree 102 of 1000\n",
      "building tree 103 of 1000\n",
      "building tree 104 of 1000\n",
      "building tree 105 of 1000\n",
      "building tree 106 of 1000\n",
      "building tree 107 of 1000\n",
      "building tree 108 of 1000\n",
      "building tree 109 of 1000\n",
      "building tree 110 of 1000\n",
      "building tree 111 of 1000\n",
      "building tree 112 of 1000\n",
      "building tree 113 of 1000\n",
      "building tree 114 of 1000\n",
      "building tree 115 of 1000\n",
      "building tree 116 of 1000\n",
      "building tree 117 of 1000\n",
      "building tree 118 of 1000\n",
      "building tree 119 of 1000\n",
      "building tree 120 of 1000\n",
      "building tree 121 of 1000\n",
      "building tree 122 of 1000\n",
      "building tree 123 of 1000\n",
      "building tree 124 of 1000\n",
      "building tree 125 of 1000\n",
      "building tree 126 of 1000\n",
      "building tree 127 of 1000\n",
      "building tree 128 of 1000\n",
      "building tree 129 of 1000\n",
      "building tree 130 of 1000\n",
      "building tree 131 of 1000\n",
      "building tree 132 of 1000\n",
      "building tree 133 of 1000\n",
      "building tree 134 of 1000\n",
      "building tree 135 of 1000\n",
      "building tree 136 of 1000\n",
      "building tree 137 of 1000\n",
      "building tree 138 of 1000\n",
      "building tree 139 of 1000\n",
      "building tree 140 of 1000\n",
      "building tree 141 of 1000\n",
      "building tree 142 of 1000\n",
      "building tree 143 of 1000\n",
      "building tree 144 of 1000\n",
      "building tree 145 of 1000\n",
      "building tree 146 of 1000\n",
      "building tree 147 of 1000\n",
      "building tree 148 of 1000\n",
      "building tree 149 of 1000\n",
      "building tree 150 of 1000\n",
      "building tree 151 of 1000\n",
      "building tree 152 of 1000\n",
      "building tree 153 of 1000\n",
      "building tree 154 of 1000\n",
      "building tree 155 of 1000\n",
      "building tree 156 of 1000\n",
      "building tree 157 of 1000\n",
      "building tree 158 of 1000\n",
      "building tree 159 of 1000\n",
      "building tree 160 of 1000\n",
      "building tree 161 of 1000\n",
      "building tree 162 of 1000\n",
      "building tree 163 of 1000\n",
      "building tree 164 of 1000\n",
      "building tree 165 of 1000\n",
      "building tree 166 of 1000\n",
      "building tree 167 of 1000\n",
      "building tree 168 of 1000\n",
      "building tree 169 of 1000\n",
      "building tree 170 of 1000\n",
      "building tree 171 of 1000\n",
      "building tree 172 of 1000\n",
      "building tree 173 of 1000\n",
      "building tree 174 of 1000\n",
      "building tree 175 of 1000\n",
      "building tree 176 of 1000\n",
      "building tree 177 of 1000\n",
      "building tree 178 of 1000\n",
      "building tree 179 of 1000\n",
      "building tree 180 of 1000\n",
      "building tree 181 of 1000\n",
      "building tree 182 of 1000\n",
      "building tree 183 of 1000\n",
      "building tree 184 of 1000\n",
      "building tree 185 of 1000\n",
      "building tree 186 of 1000\n",
      "building tree 187 of 1000\n",
      "building tree 188 of 1000\n",
      "building tree 189 of 1000\n",
      "building tree 190 of 1000\n",
      "building tree 191 of 1000\n",
      "building tree 192 of 1000\n",
      "building tree 193 of 1000\n",
      "building tree 194 of 1000\n",
      "building tree 195 of 1000\n",
      "building tree 196 of 1000\n",
      "building tree 197 of 1000\n",
      "building tree 198 of 1000\n",
      "building tree 199 of 1000\n",
      "building tree 200 of 1000\n",
      "building tree 201 of 1000\n",
      "building tree 202 of 1000\n",
      "building tree 203 of 1000\n",
      "building tree 204 of 1000\n",
      "building tree 205 of 1000\n",
      "building tree 206 of 1000\n",
      "building tree 207 of 1000\n",
      "building tree 208 of 1000\n",
      "building tree 209 of 1000\n",
      "building tree 210 of 1000\n",
      "building tree 211 of 1000\n",
      "building tree 212 of 1000\n",
      "building tree 213 of 1000\n",
      "building tree 214 of 1000\n",
      "building tree 215 of 1000\n",
      "building tree 216 of 1000\n",
      "building tree 217 of 1000\n",
      "building tree 218 of 1000\n",
      "building tree 219 of 1000\n",
      "building tree 220 of 1000\n",
      "building tree 221 of 1000\n",
      "building tree 222 of 1000\n",
      "building tree 223 of 1000\n",
      "building tree 224 of 1000\n",
      "building tree 225 of 1000\n",
      "building tree 226 of 1000\n",
      "building tree 227 of 1000\n",
      "building tree 228 of 1000\n",
      "building tree 229 of 1000\n",
      "building tree 230 of 1000\n",
      "building tree 231 of 1000\n",
      "building tree 232 of 1000\n",
      "building tree 233 of 1000\n",
      "building tree 234 of 1000\n",
      "building tree 235 of 1000\n",
      "building tree 236 of 1000\n",
      "building tree 237 of 1000\n",
      "building tree 238 of 1000\n",
      "building tree 239 of 1000\n",
      "building tree 240 of 1000\n",
      "building tree 241 of 1000\n",
      "building tree 242 of 1000\n",
      "building tree 243 of 1000\n",
      "building tree 244 of 1000\n",
      "building tree 245 of 1000\n",
      "building tree 246 of 1000\n",
      "building tree 247 of 1000\n",
      "building tree 248 of 1000\n",
      "building tree 249 of 1000\n",
      "building tree 250 of 1000\n",
      "building tree 251 of 1000\n",
      "building tree 252 of 1000\n",
      "building tree 253 of 1000\n",
      "building tree 254 of 1000\n",
      "building tree 255 of 1000\n",
      "building tree 256 of 1000\n",
      "building tree 257 of 1000\n",
      "building tree 258 of 1000\n",
      "building tree 259 of 1000\n",
      "building tree 260 of 1000\n",
      "building tree 261 of 1000\n",
      "building tree 262 of 1000\n",
      "building tree 263 of 1000\n",
      "building tree 264 of 1000\n",
      "building tree 265 of 1000\n",
      "building tree 266 of 1000\n",
      "building tree 267 of 1000\n",
      "building tree 268 of 1000\n",
      "building tree 269 of 1000\n",
      "building tree 270 of 1000\n",
      "building tree 271 of 1000\n",
      "building tree 272 of 1000\n",
      "building tree 273 of 1000\n",
      "building tree 274 of 1000\n",
      "building tree 275 of 1000\n",
      "building tree 276 of 1000\n",
      "building tree 277 of 1000\n",
      "building tree 278 of 1000\n",
      "building tree 279 of 1000\n",
      "building tree 280 of 1000\n",
      "building tree 281 of 1000\n",
      "building tree 282 of 1000\n",
      "building tree 283 of 1000\n",
      "building tree 284 of 1000\n",
      "building tree 285 of 1000\n",
      "building tree 286 of 1000\n",
      "building tree 287 of 1000\n",
      "building tree 288 of 1000\n",
      "building tree 289 of 1000\n",
      "building tree 290 of 1000\n",
      "building tree 291 of 1000\n",
      "building tree 292 of 1000\n",
      "building tree 293 of 1000\n",
      "building tree 294 of 1000\n",
      "building tree 295 of 1000\n",
      "building tree 296 of 1000\n",
      "building tree 297 of 1000\n",
      "building tree 298 of 1000\n",
      "building tree 299 of 1000\n",
      "building tree 300 of 1000\n",
      "building tree 301 of 1000\n",
      "building tree 302 of 1000\n",
      "building tree 303 of 1000\n",
      "building tree 304 of 1000\n",
      "building tree 305 of 1000\n",
      "building tree 306 of 1000\n",
      "building tree 307 of 1000\n",
      "building tree 308 of 1000\n",
      "building tree 309 of 1000\n",
      "building tree 310 of 1000\n",
      "building tree 311 of 1000\n",
      "building tree 312 of 1000\n",
      "building tree 313 of 1000\n",
      "building tree 314 of 1000\n",
      "building tree 315 of 1000\n",
      "building tree 316 of 1000\n",
      "building tree 317 of 1000\n",
      "building tree 318 of 1000\n",
      "building tree 319 of 1000\n",
      "building tree 320 of 1000\n"
     ]
    },
    {
     "name": "stdout",
     "output_type": "stream",
     "text": [
      "building tree 321 of 1000\n",
      "building tree 322 of 1000\n",
      "building tree 323 of 1000\n",
      "building tree 324 of 1000\n",
      "building tree 325 of 1000\n",
      "building tree 326 of 1000\n",
      "building tree 327 of 1000\n",
      "building tree 328 of 1000\n",
      "building tree 329 of 1000\n",
      "building tree 330 of 1000\n",
      "building tree 331 of 1000\n",
      "building tree 332 of 1000\n",
      "building tree 333 of 1000\n",
      "building tree 334 of 1000\n",
      "building tree 335 of 1000\n",
      "building tree 336 of 1000\n",
      "building tree 337 of 1000\n",
      "building tree 338 of 1000\n",
      "building tree 339 of 1000\n",
      "building tree 340 of 1000\n",
      "building tree 341 of 1000\n",
      "building tree 342 of 1000\n",
      "building tree 343 of 1000\n",
      "building tree 344 of 1000\n",
      "building tree 345 of 1000\n",
      "building tree 346 of 1000\n",
      "building tree 347 of 1000\n",
      "building tree 348 of 1000\n",
      "building tree 349 of 1000\n",
      "building tree 350 of 1000\n",
      "building tree 351 of 1000\n",
      "building tree 352 of 1000\n",
      "building tree 353 of 1000\n",
      "building tree 354 of 1000\n",
      "building tree 355 of 1000\n",
      "building tree 356 of 1000\n",
      "building tree 357 of 1000\n",
      "building tree 358 of 1000\n",
      "building tree 359 of 1000\n",
      "building tree 360 of 1000\n",
      "building tree 361 of 1000\n",
      "building tree 362 of 1000\n",
      "building tree 363 of 1000\n",
      "building tree 364 of 1000\n",
      "building tree 365 of 1000\n",
      "building tree 366 of 1000\n",
      "building tree 367 of 1000\n",
      "building tree 368 of 1000\n",
      "building tree 369 of 1000\n",
      "building tree 370 of 1000\n",
      "building tree 371 of 1000\n",
      "building tree 372 of 1000\n",
      "building tree 373 of 1000\n",
      "building tree 374 of 1000\n",
      "building tree 375 of 1000\n",
      "building tree 376 of 1000\n",
      "building tree 377 of 1000\n",
      "building tree 378 of 1000\n",
      "building tree 379 of 1000\n",
      "building tree 380 of 1000\n",
      "building tree 381 of 1000\n",
      "building tree 382 of 1000\n",
      "building tree 383 of 1000\n",
      "building tree 384 of 1000\n",
      "building tree 385 of 1000\n",
      "building tree 386 of 1000\n",
      "building tree 387 of 1000\n",
      "building tree 388 of 1000\n",
      "building tree 389 of 1000\n",
      "building tree 390 of 1000\n",
      "building tree 391 of 1000\n",
      "building tree 392 of 1000\n",
      "building tree 393 of 1000\n",
      "building tree 394 of 1000\n",
      "building tree 395 of 1000\n",
      "building tree 396 of 1000\n",
      "building tree 397 of 1000\n",
      "building tree 398 of 1000\n",
      "building tree 399 of 1000\n",
      "building tree 400 of 1000\n",
      "building tree 401 of 1000\n",
      "building tree 402 of 1000\n",
      "building tree 403 of 1000\n",
      "building tree 404 of 1000\n",
      "building tree 405 of 1000\n",
      "building tree 406 of 1000\n",
      "building tree 407 of 1000\n",
      "building tree 408 of 1000\n",
      "building tree 409 of 1000\n",
      "building tree 410 of 1000\n",
      "building tree 411 of 1000\n",
      "building tree 412 of 1000\n",
      "building tree 413 of 1000\n",
      "building tree 414 of 1000\n",
      "building tree 415 of 1000\n",
      "building tree 416 of 1000\n",
      "building tree 417 of 1000\n",
      "building tree 418 of 1000\n",
      "building tree 419 of 1000\n",
      "building tree 420 of 1000\n",
      "building tree 421 of 1000\n",
      "building tree 422 of 1000\n",
      "building tree 423 of 1000\n",
      "building tree 424 of 1000\n",
      "building tree 425 of 1000\n",
      "building tree 426 of 1000\n",
      "building tree 427 of 1000\n",
      "building tree 428 of 1000\n",
      "building tree 429 of 1000\n",
      "building tree 430 of 1000\n",
      "building tree 431 of 1000\n",
      "building tree 432 of 1000\n",
      "building tree 433 of 1000\n",
      "building tree 434 of 1000\n",
      "building tree 435 of 1000\n",
      "building tree 436 of 1000\n",
      "building tree 437 of 1000\n",
      "building tree 438 of 1000\n",
      "building tree 439 of 1000\n",
      "building tree 440 of 1000\n",
      "building tree 441 of 1000\n",
      "building tree 442 of 1000\n",
      "building tree 443 of 1000\n",
      "building tree 444 of 1000\n",
      "building tree 445 of 1000\n",
      "building tree 446 of 1000\n",
      "building tree 447 of 1000\n",
      "building tree 448 of 1000\n",
      "building tree 449 of 1000\n",
      "building tree 450 of 1000\n",
      "building tree 451 of 1000\n",
      "building tree 452 of 1000\n",
      "building tree 453 of 1000\n",
      "building tree 454 of 1000\n",
      "building tree 455 of 1000\n",
      "building tree 456 of 1000\n",
      "building tree 457 of 1000\n",
      "building tree 458 of 1000\n",
      "building tree 459 of 1000\n",
      "building tree 460 of 1000\n",
      "building tree 461 of 1000\n",
      "building tree 462 of 1000\n",
      "building tree 463 of 1000\n",
      "building tree 464 of 1000\n",
      "building tree 465 of 1000\n",
      "building tree 466 of 1000\n",
      "building tree 467 of 1000\n",
      "building tree 468 of 1000\n",
      "building tree 469 of 1000\n",
      "building tree 470 of 1000\n",
      "building tree 471 of 1000\n",
      "building tree 472 of 1000\n",
      "building tree 473 of 1000\n",
      "building tree 474 of 1000\n",
      "building tree 475 of 1000\n",
      "building tree 476 of 1000\n",
      "building tree 477 of 1000\n",
      "building tree 478 of 1000\n",
      "building tree 479 of 1000\n",
      "building tree 480 of 1000\n",
      "building tree 481 of 1000\n",
      "building tree 482 of 1000\n",
      "building tree 483 of 1000\n",
      "building tree 484 of 1000\n",
      "building tree 485 of 1000\n",
      "building tree 486 of 1000\n",
      "building tree 487 of 1000\n",
      "building tree 488 of 1000\n",
      "building tree 489 of 1000\n",
      "building tree 490 of 1000\n",
      "building tree 491 of 1000\n",
      "building tree 492 of 1000\n",
      "building tree 493 of 1000\n",
      "building tree 494 of 1000\n",
      "building tree 495 of 1000\n",
      "building tree 496 of 1000\n",
      "building tree 497 of 1000\n",
      "building tree 498 of 1000\n",
      "building tree 499 of 1000\n",
      "building tree 500 of 1000\n",
      "building tree 501 of 1000\n",
      "building tree 502 of 1000\n",
      "building tree 503 of 1000\n",
      "building tree 504 of 1000\n",
      "building tree 505 of 1000\n",
      "building tree 506 of 1000\n",
      "building tree 507 of 1000\n",
      "building tree 508 of 1000\n",
      "building tree 509 of 1000\n",
      "building tree 510 of 1000\n",
      "building tree 511 of 1000\n",
      "building tree 512 of 1000\n",
      "building tree 513 of 1000\n",
      "building tree 514 of 1000\n",
      "building tree 515 of 1000\n",
      "building tree 516 of 1000\n",
      "building tree 517 of 1000\n",
      "building tree 518 of 1000\n",
      "building tree 519 of 1000\n",
      "building tree 520 of 1000\n",
      "building tree 521 of 1000\n",
      "building tree 522 of 1000\n",
      "building tree 523 of 1000\n",
      "building tree 524 of 1000\n",
      "building tree 525 of 1000\n",
      "building tree 526 of 1000\n",
      "building tree 527 of 1000\n",
      "building tree 528 of 1000\n",
      "building tree 529 of 1000\n",
      "building tree 530 of 1000\n",
      "building tree 531 of 1000\n",
      "building tree 532 of 1000\n",
      "building tree 533 of 1000\n",
      "building tree 534 of 1000\n",
      "building tree 535 of 1000\n",
      "building tree 536 of 1000\n",
      "building tree 537 of 1000\n",
      "building tree 538 of 1000\n",
      "building tree 539 of 1000\n",
      "building tree 540 of 1000\n",
      "building tree 541 of 1000\n",
      "building tree 542 of 1000\n",
      "building tree 543 of 1000\n",
      "building tree 544 of 1000\n",
      "building tree 545 of 1000\n",
      "building tree 546 of 1000\n",
      "building tree 547 of 1000\n",
      "building tree 548 of 1000\n",
      "building tree 549 of 1000\n",
      "building tree 550 of 1000\n",
      "building tree 551 of 1000\n",
      "building tree 552 of 1000\n",
      "building tree 553 of 1000\n",
      "building tree 554 of 1000\n",
      "building tree 555 of 1000\n",
      "building tree 556 of 1000\n",
      "building tree 557 of 1000\n",
      "building tree 558 of 1000\n",
      "building tree 559 of 1000\n",
      "building tree 560 of 1000\n",
      "building tree 561 of 1000\n",
      "building tree 562 of 1000\n",
      "building tree 563 of 1000\n",
      "building tree 564 of 1000\n",
      "building tree 565 of 1000\n",
      "building tree 566 of 1000\n",
      "building tree 567 of 1000\n",
      "building tree 568 of 1000\n",
      "building tree 569 of 1000\n",
      "building tree 570 of 1000\n",
      "building tree 571 of 1000\n",
      "building tree 572 of 1000\n",
      "building tree 573 of 1000\n",
      "building tree 574 of 1000\n",
      "building tree 575 of 1000\n",
      "building tree 576 of 1000\n",
      "building tree 577 of 1000\n",
      "building tree 578 of 1000\n",
      "building tree 579 of 1000\n",
      "building tree 580 of 1000\n",
      "building tree 581 of 1000\n",
      "building tree 582 of 1000\n",
      "building tree 583 of 1000\n",
      "building tree 584 of 1000\n",
      "building tree 585 of 1000\n",
      "building tree 586 of 1000\n",
      "building tree 587 of 1000\n",
      "building tree 588 of 1000\n",
      "building tree 589 of 1000\n",
      "building tree 590 of 1000\n",
      "building tree 591 of 1000\n",
      "building tree 592 of 1000\n",
      "building tree 593 of 1000\n",
      "building tree 594 of 1000\n",
      "building tree 595 of 1000\n",
      "building tree 596 of 1000\n",
      "building tree 597 of 1000\n",
      "building tree 598 of 1000\n",
      "building tree 599 of 1000\n",
      "building tree 600 of 1000\n",
      "building tree 601 of 1000\n",
      "building tree 602 of 1000\n",
      "building tree 603 of 1000\n",
      "building tree 604 of 1000\n",
      "building tree 605 of 1000\n",
      "building tree 606 of 1000\n",
      "building tree 607 of 1000\n",
      "building tree 608 of 1000\n",
      "building tree 609 of 1000\n",
      "building tree 610 of 1000\n",
      "building tree 611 of 1000\n",
      "building tree 612 of 1000\n",
      "building tree 613 of 1000\n",
      "building tree 614 of 1000\n",
      "building tree 615 of 1000\n",
      "building tree 616 of 1000\n",
      "building tree 617 of 1000\n",
      "building tree 618 of 1000\n",
      "building tree 619 of 1000\n",
      "building tree 620 of 1000\n",
      "building tree 621 of 1000\n",
      "building tree 622 of 1000\n",
      "building tree 623 of 1000\n",
      "building tree 624 of 1000\n",
      "building tree 625 of 1000\n",
      "building tree 626 of 1000\n",
      "building tree 627 of 1000\n",
      "building tree 628 of 1000\n",
      "building tree 629 of 1000\n",
      "building tree 630 of 1000\n",
      "building tree 631 of 1000\n",
      "building tree 632 of 1000\n",
      "building tree 633 of 1000\n",
      "building tree 634 of 1000\n",
      "building tree 635 of 1000\n",
      "building tree 636 of 1000\n",
      "building tree 637 of 1000\n",
      "building tree 638 of 1000\n",
      "building tree 639 of 1000\n",
      "building tree 640 of 1000\n",
      "building tree 641 of 1000\n",
      "building tree 642 of 1000\n",
      "building tree 643 of 1000\n",
      "building tree 644 of 1000\n"
     ]
    },
    {
     "name": "stdout",
     "output_type": "stream",
     "text": [
      "building tree 645 of 1000\n",
      "building tree 646 of 1000\n",
      "building tree 647 of 1000\n",
      "building tree 648 of 1000\n",
      "building tree 649 of 1000\n",
      "building tree 650 of 1000\n",
      "building tree 651 of 1000\n",
      "building tree 652 of 1000\n",
      "building tree 653 of 1000\n",
      "building tree 654 of 1000\n",
      "building tree 655 of 1000\n",
      "building tree 656 of 1000\n",
      "building tree 657 of 1000\n",
      "building tree 658 of 1000\n",
      "building tree 659 of 1000\n",
      "building tree 660 of 1000\n",
      "building tree 661 of 1000\n",
      "building tree 662 of 1000\n",
      "building tree 663 of 1000\n",
      "building tree 664 of 1000\n",
      "building tree 665 of 1000\n",
      "building tree 666 of 1000\n",
      "building tree 667 of 1000\n",
      "building tree 668 of 1000\n",
      "building tree 669 of 1000\n",
      "building tree 670 of 1000\n",
      "building tree 671 of 1000\n",
      "building tree 672 of 1000\n",
      "building tree 673 of 1000\n",
      "building tree 674 of 1000\n",
      "building tree 675 of 1000\n",
      "building tree 676 of 1000\n",
      "building tree 677 of 1000\n",
      "building tree 678 of 1000\n",
      "building tree 679 of 1000\n",
      "building tree 680 of 1000\n",
      "building tree 681 of 1000\n",
      "building tree 682 of 1000\n",
      "building tree 683 of 1000\n",
      "building tree 684 of 1000\n",
      "building tree 685 of 1000\n",
      "building tree 686 of 1000\n",
      "building tree 687 of 1000\n",
      "building tree 688 of 1000\n",
      "building tree 689 of 1000\n",
      "building tree 690 of 1000\n",
      "building tree 691 of 1000\n",
      "building tree 692 of 1000\n",
      "building tree 693 of 1000\n",
      "building tree 694 of 1000\n",
      "building tree 695 of 1000\n",
      "building tree 696 of 1000\n",
      "building tree 697 of 1000\n",
      "building tree 698 of 1000\n",
      "building tree 699 of 1000\n",
      "building tree 700 of 1000\n",
      "building tree 701 of 1000\n",
      "building tree 702 of 1000\n",
      "building tree 703 of 1000\n",
      "building tree 704 of 1000\n",
      "building tree 705 of 1000\n",
      "building tree 706 of 1000\n",
      "building tree 707 of 1000\n",
      "building tree 708 of 1000\n",
      "building tree 709 of 1000\n",
      "building tree 710 of 1000\n",
      "building tree 711 of 1000\n",
      "building tree 712 of 1000\n",
      "building tree 713 of 1000\n",
      "building tree 714 of 1000\n",
      "building tree 715 of 1000\n",
      "building tree 716 of 1000\n",
      "building tree 717 of 1000\n",
      "building tree 718 of 1000\n",
      "building tree 719 of 1000\n",
      "building tree 720 of 1000\n",
      "building tree 721 of 1000\n",
      "building tree 722 of 1000\n",
      "building tree 723 of 1000\n",
      "building tree 724 of 1000\n",
      "building tree 725 of 1000\n",
      "building tree 726 of 1000\n",
      "building tree 727 of 1000\n",
      "building tree 728 of 1000\n",
      "building tree 729 of 1000\n",
      "building tree 730 of 1000\n",
      "building tree 731 of 1000\n",
      "building tree 732 of 1000\n",
      "building tree 733 of 1000\n",
      "building tree 734 of 1000\n",
      "building tree 735 of 1000\n",
      "building tree 736 of 1000\n",
      "building tree 737 of 1000\n",
      "building tree 738 of 1000\n",
      "building tree 739 of 1000\n",
      "building tree 740 of 1000\n",
      "building tree 741 of 1000\n",
      "building tree 742 of 1000\n",
      "building tree 743 of 1000\n",
      "building tree 744 of 1000\n",
      "building tree 745 of 1000\n",
      "building tree 746 of 1000\n",
      "building tree 747 of 1000\n",
      "building tree 748 of 1000\n",
      "building tree 749 of 1000\n",
      "building tree 750 of 1000\n",
      "building tree 751 of 1000\n",
      "building tree 752 of 1000\n",
      "building tree 753 of 1000\n",
      "building tree 754 of 1000\n",
      "building tree 755 of 1000\n",
      "building tree 756 of 1000\n",
      "building tree 757 of 1000\n",
      "building tree 758 of 1000\n",
      "building tree 759 of 1000\n",
      "building tree 760 of 1000\n",
      "building tree 761 of 1000\n",
      "building tree 762 of 1000\n",
      "building tree 763 of 1000\n",
      "building tree 764 of 1000\n",
      "building tree 765 of 1000\n",
      "building tree 766 of 1000\n",
      "building tree 767 of 1000\n",
      "building tree 768 of 1000\n",
      "building tree 769 of 1000\n",
      "building tree 770 of 1000\n",
      "building tree 771 of 1000\n",
      "building tree 772 of 1000\n",
      "building tree 773 of 1000\n",
      "building tree 774 of 1000\n",
      "building tree 775 of 1000\n",
      "building tree 776 of 1000\n",
      "building tree 777 of 1000\n",
      "building tree 778 of 1000\n",
      "building tree 779 of 1000\n",
      "building tree 780 of 1000\n",
      "building tree 781 of 1000\n",
      "building tree 782 of 1000\n",
      "building tree 783 of 1000\n",
      "building tree 784 of 1000\n",
      "building tree 785 of 1000\n",
      "building tree 786 of 1000\n",
      "building tree 787 of 1000\n",
      "building tree 788 of 1000\n",
      "building tree 789 of 1000\n",
      "building tree 790 of 1000\n",
      "building tree 791 of 1000\n",
      "building tree 792 of 1000\n",
      "building tree 793 of 1000\n",
      "building tree 794 of 1000\n",
      "building tree 795 of 1000\n",
      "building tree 796 of 1000\n",
      "building tree 797 of 1000\n",
      "building tree 798 of 1000\n",
      "building tree 799 of 1000\n",
      "building tree 800 of 1000\n",
      "building tree 801 of 1000\n",
      "building tree 802 of 1000\n",
      "building tree 803 of 1000\n",
      "building tree 804 of 1000\n",
      "building tree 805 of 1000\n",
      "building tree 806 of 1000\n",
      "building tree 807 of 1000\n",
      "building tree 808 of 1000\n",
      "building tree 809 of 1000\n",
      "building tree 810 of 1000\n",
      "building tree 811 of 1000\n",
      "building tree 812 of 1000\n",
      "building tree 813 of 1000\n",
      "building tree 814 of 1000\n",
      "building tree 815 of 1000\n",
      "building tree 816 of 1000\n",
      "building tree 817 of 1000\n",
      "building tree 818 of 1000\n",
      "building tree 819 of 1000\n",
      "building tree 820 of 1000\n",
      "building tree 821 of 1000\n",
      "building tree 822 of 1000\n",
      "building tree 823 of 1000\n",
      "building tree 824 of 1000\n",
      "building tree 825 of 1000\n",
      "building tree 826 of 1000\n",
      "building tree 827 of 1000\n",
      "building tree 828 of 1000\n",
      "building tree 829 of 1000\n",
      "building tree 830 of 1000\n",
      "building tree 831 of 1000\n",
      "building tree 832 of 1000\n",
      "building tree 833 of 1000\n",
      "building tree 834 of 1000\n",
      "building tree 835 of 1000\n",
      "building tree 836 of 1000\n",
      "building tree 837 of 1000\n",
      "building tree 838 of 1000\n",
      "building tree 839 of 1000\n",
      "building tree 840 of 1000\n",
      "building tree 841 of 1000\n",
      "building tree 842 of 1000\n",
      "building tree 843 of 1000\n",
      "building tree 844 of 1000\n",
      "building tree 845 of 1000\n",
      "building tree 846 of 1000\n",
      "building tree 847 of 1000\n",
      "building tree 848 of 1000\n",
      "building tree 849 of 1000\n",
      "building tree 850 of 1000\n",
      "building tree 851 of 1000\n",
      "building tree 852 of 1000\n",
      "building tree 853 of 1000\n",
      "building tree 854 of 1000\n",
      "building tree 855 of 1000\n",
      "building tree 856 of 1000\n",
      "building tree 857 of 1000\n",
      "building tree 858 of 1000\n",
      "building tree 859 of 1000\n",
      "building tree 860 of 1000\n",
      "building tree 861 of 1000\n",
      "building tree 862 of 1000\n",
      "building tree 863 of 1000\n",
      "building tree 864 of 1000\n",
      "building tree 865 of 1000\n",
      "building tree 866 of 1000\n",
      "building tree 867 of 1000\n",
      "building tree 868 of 1000\n",
      "building tree 869 of 1000\n",
      "building tree 870 of 1000\n",
      "building tree 871 of 1000\n",
      "building tree 872 of 1000\n",
      "building tree 873 of 1000\n",
      "building tree 874 of 1000\n",
      "building tree 875 of 1000\n",
      "building tree 876 of 1000\n",
      "building tree 877 of 1000\n",
      "building tree 878 of 1000\n",
      "building tree 879 of 1000\n",
      "building tree 880 of 1000\n",
      "building tree 881 of 1000\n",
      "building tree 882 of 1000\n",
      "building tree 883 of 1000\n",
      "building tree 884 of 1000\n",
      "building tree 885 of 1000\n",
      "building tree 886 of 1000\n",
      "building tree 887 of 1000\n",
      "building tree 888 of 1000\n",
      "building tree 889 of 1000\n",
      "building tree 890 of 1000\n",
      "building tree 891 of 1000\n",
      "building tree 892 of 1000\n",
      "building tree 893 of 1000\n",
      "building tree 894 of 1000\n",
      "building tree 895 of 1000\n",
      "building tree 896 of 1000\n",
      "building tree 897 of 1000\n",
      "building tree 898 of 1000\n",
      "building tree 899 of 1000\n",
      "building tree 900 of 1000\n",
      "building tree 901 of 1000\n",
      "building tree 902 of 1000\n",
      "building tree 903 of 1000\n",
      "building tree 904 of 1000\n",
      "building tree 905 of 1000\n",
      "building tree 906 of 1000\n",
      "building tree 907 of 1000\n",
      "building tree 908 of 1000\n",
      "building tree 909 of 1000\n",
      "building tree 910 of 1000\n",
      "building tree 911 of 1000\n",
      "building tree 912 of 1000\n",
      "building tree 913 of 1000\n",
      "building tree 914 of 1000\n",
      "building tree 915 of 1000\n",
      "building tree 916 of 1000\n",
      "building tree 917 of 1000\n",
      "building tree 918 of 1000\n",
      "building tree 919 of 1000\n",
      "building tree 920 of 1000\n",
      "building tree 921 of 1000\n",
      "building tree 922 of 1000\n",
      "building tree 923 of 1000\n",
      "building tree 924 of 1000\n",
      "building tree 925 of 1000\n",
      "building tree 926 of 1000\n",
      "building tree 927 of 1000\n",
      "building tree 928 of 1000\n",
      "building tree 929 of 1000\n",
      "building tree 930 of 1000\n",
      "building tree 931 of 1000\n",
      "building tree 932 of 1000\n",
      "building tree 933 of 1000\n",
      "building tree 934 of 1000\n",
      "building tree 935 of 1000\n",
      "building tree 936 of 1000\n",
      "building tree 937 of 1000\n",
      "building tree 938 of 1000\n",
      "building tree 939 of 1000\n",
      "building tree 940 of 1000\n",
      "building tree 941 of 1000\n",
      "building tree 942 of 1000\n",
      "building tree 943 of 1000\n",
      "building tree 944 of 1000\n",
      "building tree 945 of 1000\n",
      "building tree 946 of 1000\n",
      "building tree 947 of 1000\n",
      "building tree 948 of 1000\n",
      "building tree 949 of 1000\n",
      "building tree 950 of 1000\n",
      "building tree 951 of 1000\n",
      "building tree 952 of 1000\n",
      "building tree 953 of 1000\n",
      "building tree 954 of 1000\n",
      "building tree 955 of 1000\n",
      "building tree 956 of 1000\n",
      "building tree 957 of 1000\n",
      "building tree 958 of 1000\n",
      "building tree 959 of 1000\n",
      "building tree 960 of 1000\n",
      "building tree 961 of 1000\n",
      "building tree 962 of 1000\n",
      "building tree 963 of 1000\n",
      "building tree 964 of 1000\n",
      "building tree 965 of 1000\n",
      "building tree 966 of 1000\n",
      "building tree 967 of 1000\n",
      "building tree 968 of 1000\n",
      "building tree 969 of 1000\n",
      "building tree 970 of 1000\n",
      "building tree 971 of 1000\n",
      "building tree 972 of 1000\n",
      "building tree 973 of 1000\n",
      "building tree 974 of 1000\n"
     ]
    },
    {
     "name": "stdout",
     "output_type": "stream",
     "text": [
      "building tree 975 of 1000\n",
      "building tree 976 of 1000\n",
      "building tree 977 of 1000\n",
      "building tree 978 of 1000\n",
      "building tree 979 of 1000\n",
      "building tree 980 of 1000\n",
      "building tree 981 of 1000\n",
      "building tree 982 of 1000\n",
      "building tree 983 of 1000\n",
      "building tree 984 of 1000\n",
      "building tree 985 of 1000\n",
      "building tree 986 of 1000\n",
      "building tree 987 of 1000\n",
      "building tree 988 of 1000\n",
      "building tree 989 of 1000\n",
      "building tree 990 of 1000\n",
      "building tree 991 of 1000\n",
      "building tree 992 of 1000\n",
      "building tree 993 of 1000\n",
      "building tree 994 of 1000\n",
      "building tree 995 of 1000\n",
      "building tree 996 of 1000\n",
      "building tree 997 of 1000\n",
      "building tree 998 of 1000\n",
      "building tree 999 of 1000\n",
      "building tree 1000 of 1000\n"
     ]
    },
    {
     "name": "stderr",
     "output_type": "stream",
     "text": [
      "[Parallel(n_jobs=1)]: Done 1000 out of 1000 | elapsed:    6.1s finished\n"
     ]
    },
    {
     "data": {
      "text/plain": [
       "GridSearchCV(estimator=RandomForestClassifier(random_state=10, verbose=5),\n",
       "             n_jobs=-1,\n",
       "             param_grid={'min_samples_split': [2, 3, 4],\n",
       "                         'n_estimators': [1000]},\n",
       "             verbose=5)"
      ]
     },
     "execution_count": 65,
     "metadata": {},
     "output_type": "execute_result"
    }
   ],
   "source": [
    "grid.fit(X_train, y_train)"
   ]
  },
  {
   "cell_type": "code",
   "execution_count": 66,
   "metadata": {
    "ExecuteTime": {
     "end_time": "2020-11-27T12:44:33.815183Z",
     "start_time": "2020-11-27T12:44:33.790194Z"
    }
   },
   "outputs": [
    {
     "data": {
      "text/plain": [
       "RandomForestClassifier(n_estimators=1000, random_state=10, verbose=5)"
      ]
     },
     "execution_count": 66,
     "metadata": {},
     "output_type": "execute_result"
    }
   ],
   "source": [
    "grid.best_estimator_"
   ]
  },
  {
   "cell_type": "markdown",
   "metadata": {},
   "source": [
    "## Cross Validation"
   ]
  },
  {
   "cell_type": "code",
   "execution_count": 84,
   "metadata": {
    "ExecuteTime": {
     "end_time": "2021-01-13T15:10:39.120353Z",
     "start_time": "2021-01-13T15:09:44.758247Z"
    }
   },
   "outputs": [
    {
     "name": "stdout",
     "output_type": "stream",
     "text": [
      "Random Forest\n",
      "0.8287126651230199\n",
      "0.9214525903148656\n",
      "0.9225531914893617\n",
      "\n",
      "SVC\n",
      "0.8359331012310307\n",
      "0.9532277786768804\n",
      "0.9612765957446809\n"
     ]
    }
   ],
   "source": [
    "cv_score = cross_val_score(RandomForestClassifier(n_estimators=100, random_state=10), X, y, cv=10, n_jobs=-1)\n",
    "cv_score1 = cross_val_score(RandomForestClassifier(n_estimators=100, random_state=10), X1, y1, cv=10, n_jobs=-1)\n",
    "cv_score2 = cross_val_score(RandomForestClassifier(n_estimators=100, random_state=10), X2, y2, cv=10, n_jobs=-1)\n",
    "\n",
    "cv_scorex = cross_val_score(SVC(C=1.2, class_weight=None, gamma=0.9, kernel='rbf'), X, y, cv=10, n_jobs=-1)\n",
    "cv_score1x = cross_val_score(SVC(C=1.2, class_weight=None, gamma=0.9, kernel='rbf'), X1, y1, cv=10, n_jobs=-1)\n",
    "cv_score2x = cross_val_score(SVC(C=1.2, class_weight=None, gamma=0.9, kernel='rbf'), X2, y2, cv=10, n_jobs=-1)\n",
    "\n",
    "print('Random Forest')\n",
    "print(cv_score.mean())\n",
    "print(cv_score1.mean())\n",
    "print(cv_score2.mean())\n",
    "\n",
    "\n",
    "print('')\n",
    "print('SVC')\n",
    "\n",
    "print(cv_scorex.mean())\n",
    "print(cv_score1x.mean())\n",
    "print(cv_score2x.mean())"
   ]
  },
  {
   "cell_type": "markdown",
   "metadata": {},
   "source": [
    "# Evaluation\n",
    "\n",
    "- Select the best performing model and write your comments about why choose this model.\n",
    "- Analyse results and make comment about how you can improve model."
   ]
  },
  {
   "cell_type": "markdown",
   "metadata": {
    "ExecuteTime": {
     "end_time": "2020-11-27T00:40:31.595431Z",
     "start_time": "2020-11-27T00:40:31.573446Z"
    }
   },
   "source": [
    "# The best performing models are the SVC and Random Forest Classifier"
   ]
  },
  {
   "cell_type": "markdown",
   "metadata": {},
   "source": [
    "The reason i choose random forests was because\n",
    "- Precision and F1 scores were a priority expecially for wines rated 7, 8\n",
    "- From a business perspective, it was imperative that our model was accuratly able to identify good quality wine (above 7 quality)\n",
    "- We therefore needed to have as low number of False positives as possible\n",
    "- Both models had the highest accuracy, f1, precision and recall scores accross board so it was obviously the best choice."
   ]
  },
  {
   "cell_type": "markdown",
   "metadata": {
    "ExecuteTime": {
     "end_time": "2020-11-27T00:50:26.487726Z",
     "start_time": "2020-11-27T00:50:26.454675Z"
    }
   },
   "source": [
    "Also\n",
    "- Our model was overfitting the data and generalizing poorly, the smote oversampling helped to improve the generalization on the test set\n",
    "- Scaling the features helped to improve the performance of our model slightly by reducing the effect of outliers\n",
    "- binning the alcohol feature helped to increase accuracy and precision slightly by one point\n",
    "- feature engineering did not help to improve performance and also introduced multicolinearity\n",
    "- feature selection helped us to get rid of the useless columns and multi colinearity in the dataset but slightly degraded performance by one point\n",
    "- feature extration with PCA also reduced the performance of our model by one point\n",
    "- Random forest has the capability to cope with noise and outliers in our dataset and it didnt need manual feature selection and extraction in this dataset\n",
    "- Smote oversampling was a good contributor to performance, by counterating the imbalanced nature of our dataset it helped to increase performance on all the metrics by over 20 points"
   ]
  },
  {
   "cell_type": "markdown",
   "metadata": {
    "ExecuteTime": {
     "end_time": "2020-11-27T01:13:38.973246Z",
     "start_time": "2020-11-27T01:13:38.953296Z"
    }
   },
   "source": [
    "# We can improve our model by \n",
    "- Getting more effective and diverse data"
   ]
  },
  {
   "cell_type": "markdown",
   "metadata": {},
   "source": [
    "# Summary"
   ]
  },
  {
   "cell_type": "markdown",
   "metadata": {},
   "source": [
    "After careful evaluation of the dataset, visual plots and machine learning models, the six most influential physiochemical features that makes red wine good fall within:\n",
    "\n",
    "    - Alcohol Percentage     (9.2 - 14.9)\n",
    "    - Volatile Acidity       (0.12 - 0.915)\n",
    "    - Sulphates              (0.39 - 2.00)\n",
    "    - Total Sulfur dioxide   (6.0- 289.0)\n",
    "    - Citric Acid            (0.0 - 1.00)\n",
    "    - Chlorides              (0.012 - 0.358)\n",
    "\n",
    "PH, Residual Sugars, Density and Fixed Acidity all have a large range across board so they won't really be helpful in pinpointing whether a wine is good or not.\n",
    "\n",
    "\n",
    "Free Sulphur Dioxide is a subset of total sulphur dioxide.\n",
    "    "
   ]
  }
 ],
 "metadata": {
  "kernelspec": {
   "display_name": "Python [conda env:tf_gpu]",
   "language": "python",
   "name": "conda-env-tf_gpu-py"
  },
  "language_info": {
   "codemirror_mode": {
    "name": "ipython",
    "version": 3
   },
   "file_extension": ".py",
   "mimetype": "text/x-python",
   "name": "python",
   "nbconvert_exporter": "python",
   "pygments_lexer": "ipython3",
   "version": "3.7.8"
  },
  "toc": {
   "base_numbering": 1,
   "nav_menu": {},
   "number_sections": true,
   "sideBar": true,
   "skip_h1_title": false,
   "title_cell": "Table of Contents",
   "title_sidebar": "Contents",
   "toc_cell": false,
   "toc_position": {},
   "toc_section_display": true,
   "toc_window_display": false
  },
  "varInspector": {
   "cols": {
    "lenName": 16,
    "lenType": 16,
    "lenVar": 40
   },
   "kernels_config": {
    "python": {
     "delete_cmd_postfix": "",
     "delete_cmd_prefix": "del ",
     "library": "var_list.py",
     "varRefreshCmd": "print(var_dic_list())"
    },
    "r": {
     "delete_cmd_postfix": ") ",
     "delete_cmd_prefix": "rm(",
     "library": "var_list.r",
     "varRefreshCmd": "cat(var_dic_list()) "
    }
   },
   "types_to_exclude": [
    "module",
    "function",
    "builtin_function_or_method",
    "instance",
    "_Feature"
   ],
   "window_display": false
  }
 },
 "nbformat": 4,
 "nbformat_minor": 4
}
